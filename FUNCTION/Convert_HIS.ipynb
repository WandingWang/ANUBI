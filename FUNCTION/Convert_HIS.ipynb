{
 "cells": [
  {
   "cell_type": "code",
   "execution_count": 1,
   "id": "7bc8440f-23a9-4865-abaa-7d8c4c116ff1",
   "metadata": {},
   "outputs": [
    {
     "ename": "ModuleNotFoundError",
     "evalue": "No module named 'MDAnalysis'",
     "output_type": "error",
     "traceback": [
      "\u001b[0;31m---------------------------------------------------------------------------\u001b[0m",
      "\u001b[0;31mModuleNotFoundError\u001b[0m                       Traceback (most recent call last)",
      "Cell \u001b[0;32mIn[1], line 1\u001b[0m\n\u001b[0;32m----> 1\u001b[0m \u001b[38;5;28;01mimport\u001b[39;00m \u001b[38;5;21;01mMDAnalysis\u001b[39;00m \u001b[38;5;28;01mas\u001b[39;00m \u001b[38;5;21;01mmda\u001b[39;00m\n\u001b[1;32m      3\u001b[0m \u001b[38;5;28;01mdef\u001b[39;00m \u001b[38;5;21mconvert_his_residues_mda\u001b[39m(input_pdb, output_pdb, target\u001b[38;5;241m=\u001b[39m\u001b[38;5;124m\"\u001b[39m\u001b[38;5;124mHIS\u001b[39m\u001b[38;5;124m\"\u001b[39m):\n\u001b[1;32m      4\u001b[0m \u001b[38;5;250m    \u001b[39m\u001b[38;5;124;03m\"\"\"\u001b[39;00m\n\u001b[1;32m      5\u001b[0m \u001b[38;5;124;03m    Convert all histidine residues (HSD, HSE, HIP) in a PDB file to a target protonation state using MDAnalysis.\u001b[39;00m\n\u001b[1;32m      6\u001b[0m \u001b[38;5;124;03m    \u001b[39;00m\n\u001b[0;32m   (...)\u001b[0m\n\u001b[1;32m     10\u001b[0m \u001b[38;5;124;03m        target (str): Target residue name (default: \"HIS\").\u001b[39;00m\n\u001b[1;32m     11\u001b[0m \u001b[38;5;124;03m    \"\"\"\u001b[39;00m\n",
      "\u001b[0;31mModuleNotFoundError\u001b[0m: No module named 'MDAnalysis'"
     ]
    }
   ],
   "source": [
    "import MDAnalysis as mda\n",
    "\n",
    "def convert_his_residues_mda(input_pdb, output_pdb, target=\"HIS\"):\n",
    "    \"\"\"\n",
    "    Convert all histidine residues (HSD, HSE, HIP) in a PDB file to a target protonation state using MDAnalysis.\n",
    "    \n",
    "    Parameters:\n",
    "        input_pdb (str): Path to the input PDB file.\n",
    "        output_pdb (str): Path to the output PDB file.\n",
    "        target (str): Target residue name (default: \"HIS\").\n",
    "    \"\"\"\n",
    "    u = mda.Universe(input_pdb)\n",
    "    with open(output_pdb, \"w\") as outfile:\n",
    "        for atom in u.atoms:\n",
    "            if atom.resname in [\"HISD\", \"HISE\", \"HISP\"]:\n",
    "                atom.resname = target\n",
    "        u.atoms.write(output_pdb)\n",
    "    \n",
    "    print(f\"All HIS residues converted to {target} in {output_pdb}.\")\n"
   ]
  }
 ],
 "metadata": {
  "kernelspec": {
   "display_name": "Python 3 (ipykernel)",
   "language": "python",
   "name": "python3"
  },
  "language_info": {
   "codemirror_mode": {
    "name": "ipython",
    "version": 3
   },
   "file_extension": ".py",
   "mimetype": "text/x-python",
   "name": "python",
   "nbconvert_exporter": "python",
   "pygments_lexer": "ipython3",
   "version": "3.12.7"
  }
 },
 "nbformat": 4,
 "nbformat_minor": 5
}
