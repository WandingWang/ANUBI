{
 "cells": [
  {
   "cell_type": "code",
   "execution_count": 1,
   "id": "65f32896-a542-4b84-a367-e929e6cfba57",
   "metadata": {},
   "outputs": [],
   "source": [
    "import pandas as pd\n",
    "df = pd.read_csv(\"All_cycle_data.out\", sep='\\t')  # 读取数据，使用制表符分隔\n",
    "df_filtered = df.iloc[:, 1:]  # 提取第二列及后续列\n",
    "\n",
    "# 将结果保存为 CSV 格式\n",
    "df_filtered.to_csv(\"temp.csv\", index=False)\n",
    "\n"
   ]
  }
 ],
 "metadata": {
  "kernelspec": {
   "display_name": "Python 3 (ipykernel)",
   "language": "python",
   "name": "python3"
  },
  "language_info": {
   "codemirror_mode": {
    "name": "ipython",
    "version": 3
   },
   "file_extension": ".py",
   "mimetype": "text/x-python",
   "name": "python",
   "nbconvert_exporter": "python",
   "pygments_lexer": "ipython3",
   "version": "3.12.7"
  }
 },
 "nbformat": 4,
 "nbformat_minor": 5
}
