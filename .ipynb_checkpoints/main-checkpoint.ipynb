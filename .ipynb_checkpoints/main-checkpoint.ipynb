{
 "cells": [
  {
   "cell_type": "code",
   "execution_count": 2,
   "id": "3dc9541a-1f0b-4715-881a-8b438d01398e",
   "metadata": {},
   "outputs": [],
   "source": [
    "import os\n",
    "import datetime\n",
    "from make_top_box import make_top_protein\n",
    "from FillWater_AddIons import fill_water_ions\n",
    "from Energy_Minimization import energy_min\n",
    "from Nvt_Npt import make_new_minim_nvt_npt\n",
    "from SAMD import make_new_minim_config_samd\n",
    "\n",
    "input_dir = os.getcwd()\n",
    "    \n",
    "# pdb file\n",
    "protein_infile = \"HLA_BiAB_protein_50ns\"  # \n",
    "protein_file_path = os.path.join(input_dir, f\"{protein_infile}.pdb\")\n",
    "\n",
    "# MDP files\n",
    "ions_mdp_file = \"ions\"\n",
    "minim_mdp_file = \"minim\"\n",
    "nvt_mdp_file = \"NVT\"\n",
    "npt_mdp_file = \"NPT\"\n",
    "samd_mdp_file = \"SAMD\"\n",
    "\n",
    "ions_mdp_path = os.path.join(input_dir, f\"{ions_mdp_file}.mdp\")\n",
    "minim_mdp_path = os.path.join(input_dir, f\"{minim_mdp_file}.mdp\")\n",
    "nvt_mdp_path = os.path.join(input_dir, f\"{nvt_mdp_file}.mdp\")\n",
    "npt_mdp_path = os.path.join(input_dir, f\"{npt_mdp_file}.mdp\")\n",
    "samd_mdp_path = os.path.join(input_dir, f\"{samd_mdp_file}.mdp\")\n",
    "\n",
    "def create_output_directory():\n",
    "    # 获取当前目录\n",
    "    current_dir = os.getcwd()\n",
    "    \n",
    "    # 添加时间戳到输出文件夹名称\n",
    "    timestamp = datetime.datetime.now().strftime('%Y%m%d_%H%M%S')\n",
    "    output_dir_name = f\"output_files_{timestamp}\"\n",
    "    output_dir_path = os.path.join(current_dir, output_dir_name)\n",
    "    \n",
    "    # 创建文件夹\n",
    "    os.mkdir(output_dir_path)\n",
    "    print(f\"Created directory: {output_dir_path}\")\n",
    "    # 切换工作目录到新的输出目录\n",
    "    os.chdir(output_dir_path)\n",
    "\n",
    "    \n",
    "    \n",
    "    return output_dir_path"
   ]
  },
  {
   "cell_type": "code",
   "execution_count": 3,
   "id": "960d49ad-6921-4111-9d60-cb642903ac6b",
   "metadata": {},
   "outputs": [
    {
     "name": "stdout",
     "output_type": "stream",
     "text": [
      "Created directory: /home/bio/Desktop/jupyter_test/jupyter_test/output_files_20241119_113725\n"
     ]
    },
    {
     "data": {
      "text/plain": [
       "'/home/bio/Desktop/jupyter_test/jupyter_test/output_files_20241119_113725'"
      ]
     },
     "execution_count": 3,
     "metadata": {},
     "output_type": "execute_result"
    }
   ],
   "source": [
    "create_output_directory()"
   ]
  },
  {
   "cell_type": "code",
   "execution_count": 4,
   "id": "51db4a58-10a4-46e1-a9d7-79825fe081f0",
   "metadata": {},
   "outputs": [
    {
     "name": "stdout",
     "output_type": "stream",
     "text": [
      "Topology generation completed successfully.\n",
      "Simulation box definition completed successfully.\n"
     ]
    }
   ],
   "source": [
    "# generating a topology and build box\n",
    "make_top_protein(protein_file_path, \"amber99sb-ildn\", \"tip3p\", \"system\", \"topol\")"
   ]
  },
  {
   "cell_type": "code",
   "execution_count": 5,
   "id": "bad29d1f-1033-44c5-96c0-b87a41cd6305",
   "metadata": {},
   "outputs": [
    {
     "name": "stdout",
     "output_type": "stream",
     "text": [
      "Water and ions successfully added to the system!\n",
      "Energy minimization completed successfully!\n",
      "11:37:36 -- Running NVT MD for temperature equilibration...\n",
      "11:37:53 -- Running NPT MD for pressure equilibration...\n",
      "\n",
      "Statistics over 50001 steps [ 0.0000 through 50.0000 ps ], 1 data sets\n",
      "All statistics are over 501 points\n",
      "\n",
      "Energy                      Average   Err.Est.       RMSD  Tot-Drift\n",
      "-------------------------------------------------------------------------------\n",
      "Temperature                 293.503        6.4     19.497    35.5429  (K)\n",
      "\n",
      "Statistics over 50001 steps [ 0.0000 through 100.0000 ps ], 2 data sets\n",
      "All statistics are over 501 points\n",
      "\n",
      "Energy                      Average   Err.Est.       RMSD  Tot-Drift\n",
      "-------------------------------------------------------------------------------\n",
      "Pressure                   -2.08416         --    98.5179    16.2873  (bar)\n",
      "Density                     1004.98         --    1.30461  -0.302843  (kg/m^3)\n",
      "Equilibration completed successfully!\n"
     ]
    },
    {
     "name": "stderr",
     "output_type": "stream",
     "text": [
      "                      :-) GROMACS - gmx energy, 2024.4 (-:\n",
      "\n",
      "Executable:   /opt/gromacs-2024.4/bin/gmx\n",
      "Data prefix:  /opt/gromacs-2024.4\n",
      "Working dir:  /home/bio/Desktop/jupyter_test/jupyter_test/output_files_20241119_113725\n",
      "Command line:\n",
      "  gmx energy -f NVT.edr -o temp_NVT.xvg\n",
      "\n",
      "Opened NVT.edr as single precision energy file\n",
      "\n",
      "Select the terms you want from the following list by\n",
      "selecting either (part of) the name or the number or a combination.\n",
      "End your selection with an empty line or a zero.\n",
      "-------------------------------------------------------------------\n",
      "  1  Bond             2  Angle            3  Proper-Dih.      4  Per.-Imp.-Dih.\n",
      "  5  LJ-14            6  Coulomb-14       7  LJ-(SR)          8  Disper.-corr. \n",
      "  9  Coulomb-(SR)    10  Coul.-recip.    11  Position-Rest.  12  Potential     \n",
      " 13  Kinetic-En.     14  Total-Energy    15  Conserved-En.   16  Temperature   \n",
      " 17  Pres.-DC        18  Pressure        19  Constr.-rmsd    20  Vir-XX        \n",
      " 21  Vir-XY          22  Vir-XZ          23  Vir-YX          24  Vir-YY        \n",
      " 25  Vir-YZ          26  Vir-ZX          27  Vir-ZY          28  Vir-ZZ        \n",
      " 29  Pres-XX         30  Pres-XY         31  Pres-XZ         32  Pres-YX       \n",
      " 33  Pres-YY         34  Pres-YZ         35  Pres-ZX         36  Pres-ZY       \n",
      " 37  Pres-ZZ         38  #Surf*SurfTen   39  T-Protein       40  T-non-Protein \n",
      " 41  Lamb-Protein                        42  Lamb-non-Protein                  \n",
      "\n",
      "Last energy frame read 10 time   50.000           \n",
      "\n",
      "GROMACS reminds you: \"Energy is a very subtle concept. It is very, very difficult to get right.\" (Richard Feynman)\n",
      "\n",
      "                      :-) GROMACS - gmx energy, 2024.4 (-:\n",
      "\n",
      "Executable:   /opt/gromacs-2024.4/bin/gmx\n",
      "Data prefix:  /opt/gromacs-2024.4\n",
      "Working dir:  /home/bio/Desktop/jupyter_test/jupyter_test/output_files_20241119_113725\n",
      "Command line:\n",
      "  gmx energy -f NPT.edr -o press_NPT.xvg\n",
      "\n",
      "Opened NPT.edr as single precision energy file\n",
      "\n",
      "Select the terms you want from the following list by\n",
      "selecting either (part of) the name or the number or a combination.\n",
      "End your selection with an empty line or a zero.\n",
      "-------------------------------------------------------------------\n",
      "  1  Bond             2  Angle            3  Proper-Dih.      4  Per.-Imp.-Dih.\n",
      "  5  LJ-14            6  Coulomb-14       7  LJ-(SR)          8  Disper.-corr. \n",
      "  9  Coulomb-(SR)    10  Coul.-recip.    11  Position-Rest.  12  Potential     \n",
      " 13  Kinetic-En.     14  Total-Energy    15  Conserved-En.   16  Temperature   \n",
      " 17  Pres.-DC        18  Pressure        19  Constr.-rmsd    20  Box-X         \n",
      " 21  Box-Y           22  Box-Z           23  Volume          24  Density       \n",
      " 25  pV              26  Enthalpy        27  Vir-XX          28  Vir-XY        \n",
      " 29  Vir-XZ          30  Vir-YX          31  Vir-YY          32  Vir-YZ        \n",
      " 33  Vir-ZX          34  Vir-ZY          35  Vir-ZZ          36  Pres-XX       \n",
      " 37  Pres-XY         38  Pres-XZ         39  Pres-YX         40  Pres-YY       \n",
      " 41  Pres-YZ         42  Pres-ZX         43  Pres-ZY         44  Pres-ZZ       \n",
      " 45  #Surf*SurfTen   46  T-Protein       47  T-non-Protein   48  Lamb-Protein  \n",
      " 49  Lamb-non-Protein                  \n",
      "\n",
      "Last energy frame read 7 time  100.000            \n",
      "\n",
      "GROMACS reminds you: \"Energy is a very subtle concept. It is very, very difficult to get right.\" (Richard Feynman)\n",
      "\n"
     ]
    }
   ],
   "source": [
    "# Adding water and ions\n",
    "fill_water_ions(\"system\", \"topol\", ions_mdp_path)\n",
    "# Energy Minimiization\n",
    "energy_min(minim_mdp_path, \"system_ions\", \"topol\", \"system_compl\")\n",
    "# Nvt and Npt\n",
    "sequence = 0\n",
    "make_new_minim_nvt_npt(\"system_compl_minim.gro\", nvt_mdp_path, npt_mdp_path, \"system_equil\", 0)"
   ]
  },
  {
   "cell_type": "code",
   "execution_count": 6,
   "id": "8693869f-6e53-464e-9eb8-5df34f4b205c",
   "metadata": {},
   "outputs": [
    {
     "name": "stdout",
     "output_type": "stream",
     "text": [
      "11:38:24 -- Running SAMD MD for adaptive molecular dynamics...\n",
      "Something went wrong: Something wrong on SAMD GROMPP\n"
     ]
    },
    {
     "ename": "CalledProcessError",
     "evalue": "Command 'gmx grompp -f /home/bio/Desktop/jupyter_test/jupyter_test/SAMD.mdp -c system_equil.gro -r system_equil.gro -p topol.top -o system_SAMD_MD.tpr' returned non-zero exit status 1.",
     "output_type": "error",
     "traceback": [
      "\u001b[0;31m---------------------------------------------------------------------------\u001b[0m",
      "\u001b[0;31mCalledProcessError\u001b[0m                        Traceback (most recent call last)",
      "Cell \u001b[0;32mIn[6], line 1\u001b[0m\n\u001b[0;32m----> 1\u001b[0m make_new_minim_config_samd(\u001b[38;5;124m\"\u001b[39m\u001b[38;5;124msystem_equil.gro\u001b[39m\u001b[38;5;124m\"\u001b[39m, samd_mdp_path, \u001b[38;5;124m\"\u001b[39m\u001b[38;5;124msystem_Compl_MDstart\u001b[39m\u001b[38;5;124m\"\u001b[39m, \u001b[38;5;241m0\u001b[39m)\n",
      "File \u001b[0;32m~/Desktop/jupyter_test/jupyter_test/SAMD.py:46\u001b[0m, in \u001b[0;36mmake_new_minim_config_samd\u001b[0;34m(input_structure_file, samd_mdp, output_gro, sequence, top_name, pipe_file)\u001b[0m\n\u001b[1;32m     41\u001b[0m \u001b[38;5;66;03m# GROMPP step for SAMD\u001b[39;00m\n\u001b[1;32m     42\u001b[0m samd_grompp_command \u001b[38;5;241m=\u001b[39m (\n\u001b[1;32m     43\u001b[0m     \u001b[38;5;124mf\u001b[39m\u001b[38;5;124m\"\u001b[39m\u001b[38;5;124mgmx grompp -f \u001b[39m\u001b[38;5;132;01m{\u001b[39;00msamd_mdp\u001b[38;5;132;01m}\u001b[39;00m\u001b[38;5;124m -c \u001b[39m\u001b[38;5;132;01m{\u001b[39;00minput_structure_file\u001b[38;5;132;01m}\u001b[39;00m\u001b[38;5;124m -r \u001b[39m\u001b[38;5;132;01m{\u001b[39;00minput_structure_file\u001b[38;5;132;01m}\u001b[39;00m\u001b[38;5;124m \u001b[39m\u001b[38;5;124m\"\u001b[39m\n\u001b[1;32m     44\u001b[0m     \u001b[38;5;124mf\u001b[39m\u001b[38;5;124m\"\u001b[39m\u001b[38;5;124m-p \u001b[39m\u001b[38;5;132;01m{\u001b[39;00mtop_name\u001b[38;5;132;01m}\u001b[39;00m\u001b[38;5;124m.top -o system_SAMD_MD.tpr\u001b[39m\u001b[38;5;124m\"\u001b[39m\n\u001b[1;32m     45\u001b[0m )\n\u001b[0;32m---> 46\u001b[0m run_gromacs_command(samd_grompp_command, \u001b[38;5;124m\"\u001b[39m\u001b[38;5;124mSomething wrong on SAMD GROMPP\u001b[39m\u001b[38;5;124m\"\u001b[39m, pipe_file, output_file\u001b[38;5;241m=\u001b[39mgrompp_samd_out)\n\u001b[1;32m     48\u001b[0m \u001b[38;5;66;03m# MDRUN step for SAMD\u001b[39;00m\n\u001b[1;32m     49\u001b[0m samd_mdrun_command \u001b[38;5;241m=\u001b[39m (\n\u001b[1;32m     50\u001b[0m     \u001b[38;5;124mf\u001b[39m\u001b[38;5;124m\"\u001b[39m\u001b[38;5;124mgmx mdrun -ntmpi 1 -ntomp 8 -nb gpu -pme gpu -bonded gpu -update gpu \u001b[39m\u001b[38;5;124m\"\u001b[39m\n\u001b[1;32m     51\u001b[0m     \u001b[38;5;124mf\u001b[39m\u001b[38;5;124m\"\u001b[39m\u001b[38;5;124m-s system_SAMD_MD.tpr -c \u001b[39m\u001b[38;5;132;01m{\u001b[39;00moutput_gro\u001b[38;5;132;01m}\u001b[39;00m\u001b[38;5;124m.gro -cpo state_SAMD_MD.cpt -x traj_SAMD_MD.xtc -e SAMD.edr -v\u001b[39m\u001b[38;5;124m\"\u001b[39m\n\u001b[1;32m     52\u001b[0m )\n",
      "File \u001b[0;32m~/Desktop/jupyter_test/jupyter_test/SAMD.py:17\u001b[0m, in \u001b[0;36mrun_gromacs_command\u001b[0;34m(command, error_message, pipe_file, output_file)\u001b[0m\n\u001b[1;32m     15\u001b[0m \u001b[38;5;28;01mif\u001b[39;00m output_file:\n\u001b[1;32m     16\u001b[0m     \u001b[38;5;28;01mwith\u001b[39;00m \u001b[38;5;28mopen\u001b[39m(output_file, \u001b[38;5;124m\"\u001b[39m\u001b[38;5;124mw\u001b[39m\u001b[38;5;124m\"\u001b[39m) \u001b[38;5;28;01mas\u001b[39;00m out:\n\u001b[0;32m---> 17\u001b[0m         subprocess\u001b[38;5;241m.\u001b[39mrun(command, check\u001b[38;5;241m=\u001b[39m\u001b[38;5;28;01mTrue\u001b[39;00m, shell\u001b[38;5;241m=\u001b[39m\u001b[38;5;28;01mTrue\u001b[39;00m, stdout\u001b[38;5;241m=\u001b[39mout, stderr\u001b[38;5;241m=\u001b[39msubprocess\u001b[38;5;241m.\u001b[39mSTDOUT)\n\u001b[1;32m     18\u001b[0m \u001b[38;5;28;01melse\u001b[39;00m:\n\u001b[1;32m     19\u001b[0m     subprocess\u001b[38;5;241m.\u001b[39mrun(command, check\u001b[38;5;241m=\u001b[39m\u001b[38;5;28;01mTrue\u001b[39;00m, shell\u001b[38;5;241m=\u001b[39m\u001b[38;5;28;01mTrue\u001b[39;00m)\n",
      "File \u001b[0;32m~/ls/lib/python3.12/subprocess.py:571\u001b[0m, in \u001b[0;36mrun\u001b[0;34m(input, capture_output, timeout, check, *popenargs, **kwargs)\u001b[0m\n\u001b[1;32m    569\u001b[0m     retcode \u001b[38;5;241m=\u001b[39m process\u001b[38;5;241m.\u001b[39mpoll()\n\u001b[1;32m    570\u001b[0m     \u001b[38;5;28;01mif\u001b[39;00m check \u001b[38;5;129;01mand\u001b[39;00m retcode:\n\u001b[0;32m--> 571\u001b[0m         \u001b[38;5;28;01mraise\u001b[39;00m CalledProcessError(retcode, process\u001b[38;5;241m.\u001b[39margs,\n\u001b[1;32m    572\u001b[0m                                  output\u001b[38;5;241m=\u001b[39mstdout, stderr\u001b[38;5;241m=\u001b[39mstderr)\n\u001b[1;32m    573\u001b[0m \u001b[38;5;28;01mreturn\u001b[39;00m CompletedProcess(process\u001b[38;5;241m.\u001b[39margs, retcode, stdout, stderr)\n",
      "\u001b[0;31mCalledProcessError\u001b[0m: Command 'gmx grompp -f /home/bio/Desktop/jupyter_test/jupyter_test/SAMD.mdp -c system_equil.gro -r system_equil.gro -p topol.top -o system_SAMD_MD.tpr' returned non-zero exit status 1."
     ]
    }
   ],
   "source": [
    "make_new_minim_config_samd(\"system_equil.gro\", samd_mdp_path, \"system_Compl_MDstart\", 0)"
   ]
  }
 ],
 "metadata": {
  "kernelspec": {
   "display_name": "Python 3 (ipykernel)",
   "language": "python",
   "name": "python3"
  },
  "language_info": {
   "codemirror_mode": {
    "name": "ipython",
    "version": 3
   },
   "file_extension": ".py",
   "mimetype": "text/x-python",
   "name": "python",
   "nbconvert_exporter": "python",
   "pygments_lexer": "ipython3",
   "version": "3.12.7"
  }
 },
 "nbformat": 4,
 "nbformat_minor": 5
}
