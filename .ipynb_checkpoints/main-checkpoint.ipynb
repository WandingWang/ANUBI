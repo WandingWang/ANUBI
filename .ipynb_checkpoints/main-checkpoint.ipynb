{
 "cells": [
  {
   "cell_type": "code",
   "execution_count": 1,
   "id": "3dc9541a-1f0b-4715-881a-8b438d01398e",
   "metadata": {},
   "outputs": [],
   "source": [
    "import os\n",
    "import datetime\n",
    "from Bio import PDB\n",
    "import shutil\n",
    "import pandas as pd\n",
    "'''\n",
    "from make_top_box import make_top_protein\n",
    "from FillWater_AddIons import fill_water_ions\n",
    "from Energy_Minimization import energy_min\n",
    "from Nvt_Npt import make_new_minim_nvt_npt\n",
    "from SAMD import make_new_minim_config_samd\n",
    "from SAMD import run_md\n",
    "'''\n",
    "from FUNCTION import make_top_protein, fill_water_ions, energy_min, make_new_minim_nvt_npt, make_new_minim_config_samd, run_md, files_gmxmmpbsa\n",
    "\n",
    "#PROJECT_ROOT = os.path.dirname(os.path.abspath(__file__))\n",
    "PROJECT_ROOT = os.getcwd()\n",
    "\n",
    "DATA_DIR = os.path.join(PROJECT_ROOT, \"DATA\")\n",
    "VMD_DIR = os.path.join(PROJECT_ROOT, \"VMD_FUNCTION\")\n",
    "FUNCTION_DIR = os.path.join(PROJECT_ROOT, \"FUNCTION\")\n",
    "    \n",
    "# pdb file\n",
    "protein_infile = \"HLA_BiAB_protein_50ns\" \n",
    "#protein_infile = \"mtbind\"\n",
    "protein_file_path = os.path.join(DATA_DIR, f\"{protein_infile}.pdb\")\n",
    "\n",
    "# MDP files\n",
    "ions_mdp_file = \"ions\"\n",
    "minim_mdp_file = \"minim\"\n",
    "nvt_mdp_file = \"NVT\"\n",
    "npt_mdp_file = \"NPT\"\n",
    "samd_mdp_file = \"SAMD\"\n",
    "md_mdp_file = \"EngComp_ff14sb_custom\"\n",
    "only_protein_md_mdp_file = \"Protein_EngComp_ff14sb_custom\"\n",
    "\n",
    "ions_mdp_path = os.path.join(DATA_DIR, f\"{ions_mdp_file}.mdp\")\n",
    "minim_mdp_path = os.path.join(DATA_DIR, f\"{minim_mdp_file}.mdp\")\n",
    "nvt_mdp_path = os.path.join(DATA_DIR, f\"{nvt_mdp_file}.mdp\")\n",
    "npt_mdp_path = os.path.join(DATA_DIR, f\"{npt_mdp_file}.mdp\")\n",
    "samd_mdp_path = os.path.join(DATA_DIR, f\"{samd_mdp_file}.mdp\")\n",
    "md_mdp_path = os.path.join(DATA_DIR, f\"{md_mdp_file}.mdp\")\n",
    "only_protein_md_mdp_path = os.path.join(DATA_DIR, f\"{only_protein_md_mdp_file}.mdp\")\n",
    "\n",
    "def create_output_directory():\n",
    "    \n",
    "    current_dir = os.getcwd()\n",
    "    \n",
    "    timestamp = datetime.datetime.now().strftime('%Y%m%d_%H%M%S')\n",
    "    output_dir_name = f\"output_{timestamp}\"\n",
    "    output_dir_path = os.path.join(current_dir, output_dir_name)\n",
    "    \n",
    "    os.mkdir(output_dir_path)\n",
    "    print(f\"Created directory: {output_dir_path}\")\n",
    "\n",
    "    os.chdir(output_dir_path)\n",
    "\n",
    "    \n",
    "    \n",
    "    return output_dir_path"
   ]
  },
  {
   "cell_type": "code",
   "execution_count": 3,
   "id": "628ef8cd-f458-4657-bab0-4a1573756882",
   "metadata": {},
   "outputs": [
    {
     "data": {
      "text/plain": [
       "'/home/bio/Desktop/jupyter_test/antibody_test/DATA/ions.mdp'"
      ]
     },
     "execution_count": 3,
     "metadata": {},
     "output_type": "execute_result"
    }
   ],
   "source": [
    "ions_mdp_path "
   ]
  },
  {
   "cell_type": "code",
   "execution_count": 2,
   "id": "960d49ad-6921-4111-9d60-cb642903ac6b",
   "metadata": {},
   "outputs": [
    {
     "name": "stdout",
     "output_type": "stream",
     "text": [
      "Created directory: /home/bio/Desktop/jupyter_test/antibody_test/output_20241125_170832\n"
     ]
    }
   ],
   "source": [
    "ROOT_OUTPUT = create_output_directory()"
   ]
  },
  {
   "cell_type": "code",
   "execution_count": 3,
   "id": "05b83679-f435-4e6d-a388-66373655bb39",
   "metadata": {},
   "outputs": [
    {
     "name": "stdout",
     "output_type": "stream",
     "text": [
      "Create directory: /home/bio/Desktop/jupyter_test/antibody_test/output_20241125_170832/configuration\n"
     ]
    }
   ],
   "source": [
    "# create configuration folder\n",
    "configuration_path = os.path.join(os.getcwd(),\"configuration\")\n",
    "os.mkdir(configuration_path)\n",
    "print(f\"Create directory: {configuration_path}\")\n",
    "os.chdir(configuration_path)"
   ]
  },
  {
   "cell_type": "code",
   "execution_count": 4,
   "id": "18b994b7-fa46-4db7-938f-747f1c4561dd",
   "metadata": {},
   "outputs": [],
   "source": [
    "# build folders\n",
    "# running_num, MAKE IT 1 NOW, NEED TO CHANGE\n",
    "\n",
    "def build_folders(current_dir, running_num = 1):\n",
    "    # Create folder for each cycle\n",
    "    folders  ={}\n",
    "    \n",
    "    for cycle_n in range (1,running_num + 1):\n",
    "        folder_name = f\"cycle{cycle_n}_MD\"\n",
    "        folder_path = os.path.join(current_dir, folder_name)\n",
    "        os.makedirs(folder_path, exist_ok = True)\n",
    "        folders[f\"cycle{cycle_n}_MD\"] = folder_path\n",
    "\n",
    "    folders[\"repository\"] = os.path.join(current_dir,\"REPOSITORY\")\n",
    "    folders[\"TEMP_FILES_FOLDER\"] = os.path.join(current_dir,\"TEMP_FILES_FOLDER\")\n",
    "    folders[\"REMOVED_FILES_FOLDER\"] = os.path.join(current_dir,\"REMOVED_FILES_FOLDER\")\n",
    "    folders[\"results\"] = os.path.join(current_dir,\"RESULTS\")\n",
    "\n",
    "    for folder in folders.values():\n",
    "        os.makedirs(folder,exist_ok = True)\n",
    "        \n",
    "    header = [\n",
    "    \"#RUNnumber\", \"DeltaG(kJ/mol)\", \"Coul(kJ/mol)\", \"vdW(kJ/mol)\",\n",
    "    \"PolSol(kJ/mol)\", \"NpoSol(kJ/mol)\", \"ScoreFunct\", \"ScoreFunct2\",\n",
    "    \"Canonica_AVG\", \"MedianDG\", \"DeltaG_2s\", \"dG_PotEn\"]\n",
    "\n",
    "    df = pd.DataFrame(columns=header)\n",
    "    results_file_path = os.path.join(folders[\"results\"], \"MoleculesResults.dat\")\n",
    "    df.to_csv(results_file_path, sep='\\t', index=False, header=True)\n",
    "    return folders\n",
    "    "
   ]
  },
  {
   "cell_type": "code",
   "execution_count": 5,
   "id": "ec6af1df-c230-43bd-a571-a53fe8f11ad8",
   "metadata": {},
   "outputs": [
    {
     "name": "stdout",
     "output_type": "stream",
     "text": [
      "{'cycle1_MD': '/home/bio/Desktop/jupyter_test/antibody_test/output_20241125_170832/configuration/cycle1_MD', 'repository': '/home/bio/Desktop/jupyter_test/antibody_test/output_20241125_170832/configuration/REPOSITORY', 'TEMP_FILES_FOLDER': '/home/bio/Desktop/jupyter_test/antibody_test/output_20241125_170832/configuration/TEMP_FILES_FOLDER', 'REMOVED_FILES_FOLDER': '/home/bio/Desktop/jupyter_test/antibody_test/output_20241125_170832/configuration/REMOVED_FILES_FOLDER', 'results': '/home/bio/Desktop/jupyter_test/antibody_test/output_20241125_170832/configuration/RESULTS'}\n"
     ]
    }
   ],
   "source": [
    "current_dir = os.getcwd()\n",
    "folders = build_folders(current_dir)\n",
    "print(folders)"
   ]
  },
  {
   "cell_type": "code",
   "execution_count": 6,
   "id": "198aaade-4e7b-40f4-b59b-c97688dd0774",
   "metadata": {},
   "outputs": [
    {
     "name": "stdout",
     "output_type": "stream",
     "text": [
      "Topology generation completed successfully.\n",
      "Simulation box definition completed successfully.\n"
     ]
    }
   ],
   "source": [
    "# generating a topology and build box\n",
    "make_top_protein(protein_file_path, \"amber99sb-ildn\", \"tip3p\", \"system\", \"topol\")"
   ]
  },
  {
   "cell_type": "code",
   "execution_count": 7,
   "id": "1a31f5c7-dbea-42c9-a429-c5a0e9668058",
   "metadata": {},
   "outputs": [],
   "source": [
    "# cp system.pdb {protein_infile}.pdb in current folder\n",
    "source = os.path.join(current_dir, \"system.pdb\")\n",
    "destination = os.path.join(current_dir, f\"{protein_infile }.pdb\")\n",
    "try:\n",
    "    shutil.copy(source,destination)\n",
    "except Exception:\n",
    "    print(\"Copy system.pdb failed.\")"
   ]
  },
  {
   "cell_type": "code",
   "execution_count": 8,
   "id": "94ec6d94-4f2a-47dd-9e03-6f698dfb038f",
   "metadata": {},
   "outputs": [],
   "source": [
    "## OC2 DOESN'T NORMAL ONE, NEED TO CHANGE\n",
    "def add_ter_to_pdb(pdb_file_name):\n",
    "    \n",
    "    temp_file_name = f\"{pdb_file_name}_temp\"  \n",
    "    with open(pdb_file_name, 'r') as f:\n",
    "        lines = f.readlines()\n",
    "\n",
    "    new_lines = []  \n",
    "    for i, line in enumerate(lines):\n",
    "        new_lines.append(line)\n",
    "        if \"OC2\" in line:\n",
    "            if i + 1 >= len(lines) or not lines[i + 1].startswith(\"TER\"):\n",
    "                new_lines.append(\"TER\\n\")\n",
    "\n",
    "    with open(temp_file_name, 'w') as f:\n",
    "        f.writelines(new_lines)\n",
    "\n",
    "    os.rename(temp_file_name, pdb_file_name)"
   ]
  },
  {
   "cell_type": "code",
   "execution_count": 9,
   "id": "611040e8-e0d1-4fe2-95b4-ec39140e62bd",
   "metadata": {},
   "outputs": [],
   "source": [
    "add_ter_to_pdb(f\"{protein_infile }.pdb\")"
   ]
  },
  {
   "cell_type": "code",
   "execution_count": 10,
   "id": "900035a0-9225-4f68-9639-7623d3c4cb3f",
   "metadata": {},
   "outputs": [],
   "source": [
    "def replace_his_(input_pdb, output_pdb):\n",
    "    # input_pdb: the pdb in configuration/mutant x\n",
    "    # output_pdb: make it in ROOT_OUTPUT folder\n",
    "    with open(input_pdb, 'r') as infile:\n",
    "        data = infile.read()\n",
    "    data = data.replace(\"HISD\", \"HIS\").replace(\"HISE\", \"HIS\").replace(\"HISP\", \"HIS\")\n",
    "\n",
    "    with open(output_pdb, 'w') as outfile:\n",
    "        outfile.write(data)"
   ]
  },
  {
   "cell_type": "code",
   "execution_count": 11,
   "id": "695a0398-4aac-472e-8d1a-e99971d69394",
   "metadata": {},
   "outputs": [],
   "source": [
    "output_pdb = os.path.join(ROOT_OUTPUT, f\"{protein_infile}.pdb\")\n",
    "replace_his_(f\"{protein_infile}.pdb\",output_pdb)"
   ]
  },
  {
   "cell_type": "code",
   "execution_count": 12,
   "id": "f33bf63c-bd38-4189-ad65-bbb28ab5d86c",
   "metadata": {},
   "outputs": [
    {
     "name": "stdout",
     "output_type": "stream",
     "text": [
      "Water and ions successfully added to the system!\n",
      "Energy minimization completed successfully!\n"
     ]
    }
   ],
   "source": [
    "# Adding water and ions\n",
    "fill_water_ions(\"system\", \"topol\", ions_mdp_path)\n",
    "# Energy Minimiization\n",
    "energy_min(minim_mdp_path, \"system_ions\", \"topol\", \"system_compl\")"
   ]
  },
  {
   "cell_type": "code",
   "execution_count": 16,
   "id": "967cf6c1-9283-45c7-8579-7aee883ac170",
   "metadata": {},
   "outputs": [],
   "source": [
    "# RESIDUAL SELECTION"
   ]
  },
  {
   "cell_type": "code",
   "execution_count": 13,
   "id": "bad29d1f-1033-44c5-96c0-b87a41cd6305",
   "metadata": {},
   "outputs": [
    {
     "name": "stdout",
     "output_type": "stream",
     "text": [
      "17:09:06 -- Running NVT MD for temperature equilibration...\n",
      "17:09:25 -- Running NPT MD for pressure equilibration...\n",
      "\n",
      "Statistics over 50001 steps [ 0.0000 through 50.0000 ps ], 1 data sets\n",
      "All statistics are over 501 points\n",
      "\n",
      "Energy                      Average   Err.Est.       RMSD  Tot-Drift\n",
      "-------------------------------------------------------------------------------\n",
      "Temperature                  292.92        6.5    19.4707    35.0142  (K)\n",
      "\n",
      "Statistics over 50001 steps [ 0.0000 through 100.0000 ps ], 2 data sets\n",
      "All statistics are over 501 points\n",
      "\n",
      "Energy                      Average   Err.Est.       RMSD  Tot-Drift\n",
      "-------------------------------------------------------------------------------\n",
      "Pressure                    -2.4455         --    93.3255    14.4586  (bar)\n",
      "Density                     1005.11         --    1.14786   0.925292  (kg/m^3)\n",
      "Equilibration completed successfully!\n"
     ]
    },
    {
     "name": "stderr",
     "output_type": "stream",
     "text": [
      "                      :-) GROMACS - gmx energy, 2024.4 (-:\n",
      "\n",
      "Executable:   /opt/gromacs-2024.4/bin/gmx\n",
      "Data prefix:  /opt/gromacs-2024.4\n",
      "Working dir:  /home/bio/Desktop/jupyter_test/antibody_test/output_20241125_170832/configuration\n",
      "Command line:\n",
      "  gmx energy -f NVT.edr -o temp_NVT.xvg\n",
      "\n",
      "Opened NVT.edr as single precision energy file\n",
      "\n",
      "Select the terms you want from the following list by\n",
      "selecting either (part of) the name or the number or a combination.\n",
      "End your selection with an empty line or a zero.\n",
      "-------------------------------------------------------------------\n",
      "  1  Bond             2  Angle            3  Proper-Dih.      4  Per.-Imp.-Dih.\n",
      "  5  LJ-14            6  Coulomb-14       7  LJ-(SR)          8  Disper.-corr. \n",
      "  9  Coulomb-(SR)    10  Coul.-recip.    11  Position-Rest.  12  Potential     \n",
      " 13  Kinetic-En.     14  Total-Energy    15  Conserved-En.   16  Temperature   \n",
      " 17  Pres.-DC        18  Pressure        19  Constr.-rmsd    20  Vir-XX        \n",
      " 21  Vir-XY          22  Vir-XZ          23  Vir-YX          24  Vir-YY        \n",
      " 25  Vir-YZ          26  Vir-ZX          27  Vir-ZY          28  Vir-ZZ        \n",
      " 29  Pres-XX         30  Pres-XY         31  Pres-XZ         32  Pres-YX       \n",
      " 33  Pres-YY         34  Pres-YZ         35  Pres-ZX         36  Pres-ZY       \n",
      " 37  Pres-ZZ         38  #Surf*SurfTen   39  T-Protein       40  T-non-Protein \n",
      " 41  Lamb-Protein                        42  Lamb-non-Protein                  \n",
      "\n",
      "Last energy frame read 10 time   50.000           \n",
      "\n",
      "GROMACS reminds you: \"For those who want some proof that physicists are human, the proof is in the idiocy of all the different units which they use for measuring energy.\" (Richard Feynman)\n",
      "\n",
      "                      :-) GROMACS - gmx energy, 2024.4 (-:\n",
      "\n",
      "Executable:   /opt/gromacs-2024.4/bin/gmx\n",
      "Data prefix:  /opt/gromacs-2024.4\n",
      "Working dir:  /home/bio/Desktop/jupyter_test/antibody_test/output_20241125_170832/configuration\n",
      "Command line:\n",
      "  gmx energy -f NPT.edr -o press_NPT.xvg\n",
      "\n",
      "Opened NPT.edr as single precision energy file\n",
      "\n",
      "Select the terms you want from the following list by\n",
      "selecting either (part of) the name or the number or a combination.\n",
      "End your selection with an empty line or a zero.\n",
      "-------------------------------------------------------------------\n",
      "  1  Bond             2  Angle            3  Proper-Dih.      4  Per.-Imp.-Dih.\n",
      "  5  LJ-14            6  Coulomb-14       7  LJ-(SR)          8  Disper.-corr. \n",
      "  9  Coulomb-(SR)    10  Coul.-recip.    11  Position-Rest.  12  Potential     \n",
      " 13  Kinetic-En.     14  Total-Energy    15  Conserved-En.   16  Temperature   \n",
      " 17  Pres.-DC        18  Pressure        19  Constr.-rmsd    20  Box-X         \n",
      " 21  Box-Y           22  Box-Z           23  Volume          24  Density       \n",
      " 25  pV              26  Enthalpy        27  Vir-XX          28  Vir-XY        \n",
      " 29  Vir-XZ          30  Vir-YX          31  Vir-YY          32  Vir-YZ        \n",
      " 33  Vir-ZX          34  Vir-ZY          35  Vir-ZZ          36  Pres-XX       \n",
      " 37  Pres-XY         38  Pres-XZ         39  Pres-YX         40  Pres-YY       \n",
      " 41  Pres-YZ         42  Pres-ZX         43  Pres-ZY         44  Pres-ZZ       \n",
      " 45  #Surf*SurfTen   46  T-Protein       47  T-non-Protein   48  Lamb-Protein  \n",
      " 49  Lamb-non-Protein                  \n",
      "\n",
      "Last energy frame read 7 time  100.000            \n",
      "\n",
      "GROMACS reminds you: \"For those who want some proof that physicists are human, the proof is in the idiocy of all the different units which they use for measuring energy.\" (Richard Feynman)\n",
      "\n"
     ]
    }
   ],
   "source": [
    "# Nvt and Npt\n",
    "sequence = 0\n",
    "make_new_minim_nvt_npt(\"system_compl_minim.gro\", nvt_mdp_path, npt_mdp_path, \"system_equil\", 0)"
   ]
  },
  {
   "cell_type": "code",
   "execution_count": 14,
   "id": "8b3ca99c-fb6e-4770-b2c9-4a00d12c2f88",
   "metadata": {},
   "outputs": [],
   "source": [
    "import shutil\n",
    "import glob\n",
    "\n",
    "# Move .cpt, .top, and .itp files to repository folder\n",
    "for file_pattern in [f\"{current_dir}/*.cpt\", f\"{current_dir}/*.top\", f\"{current_dir}/*.itp\"]:\n",
    "    for file in glob.glob(file_pattern):\n",
    "        shutil.move(file, folders[\"repository\"])\n",
    "\n",
    "# Move specific files to repository folder\n",
    "shutil.move(f\"{current_dir}/{protein_infile}.pdb\", folders[\"repository\"])\n",
    "shutil.move(f\"{current_dir}/system_compl_minim.gro\", folders[\"repository\"])\n",
    "shutil.move(f\"{current_dir}/system_equil.gro\", folders[\"repository\"])\n",
    "\n",
    "\n",
    "# Move temp* and *out files to removed files folder\n",
    "for file in glob.glob(\"./*temp*.*\") + glob.glob(\"./*.temp\") + glob.glob(\"./*out\"):\n",
    "    shutil.move(file, folders[\"REMOVED_FILES_FOLDER\"])\n",
    "\n",
    "# Remove files with # in their name\n",
    "for file in glob.glob(\"./#*\"):\n",
    "    os.remove(file)\n"
   ]
  },
  {
   "cell_type": "code",
   "execution_count": 15,
   "id": "8693869f-6e53-464e-9eb8-5df34f4b205c",
   "metadata": {},
   "outputs": [],
   "source": [
    "#NEED TO CHANGE cycle{cycle_number}_MD\n",
    "cycle_MD_path = os.path.join(current_dir,f\"cycle1_MD\")\n",
    "os.chdir(cycle_MD_path)"
   ]
  },
  {
   "cell_type": "code",
   "execution_count": 16,
   "id": "5a5407d4-acec-4576-9e83-7eeaeeef0957",
   "metadata": {},
   "outputs": [],
   "source": [
    "import shutil\n",
    "import glob\n",
    "\n",
    "shutil.copy(os.path.join(folders[\"repository\"], \"system_equil.gro\"), \"./\")\n",
    "shutil.copy(os.path.join(folders[\"repository\"], \"topol.top\"), \"./\")\n",
    "\n",
    "for itp_file in glob.glob(os.path.join(folders[\"repository\"], \"*rotein_chain_*.itp\")):\n",
    "    shutil.copy(itp_file, \"./\")\n",
    "\n",
    "for itp_file in glob.glob(os.path.join(folders[\"repository\"], \"posres_*.itp\")):\n",
    "    shutil.copy(itp_file, \"./\")\n",
    "\n",
    "for cpt_file in glob.glob(os.path.join(folders[\"repository\"], \"*NPT*.cpt\")):\n",
    "    shutil.copy(cpt_file, \"./\")"
   ]
  },
  {
   "cell_type": "code",
   "execution_count": 17,
   "id": "2ae703ad-8b62-449c-abb4-9a3bf1b021bc",
   "metadata": {},
   "outputs": [
    {
     "name": "stdout",
     "output_type": "stream",
     "text": [
      "17:12:31 -- Running SAMD \n",
      "\n",
      "Statistics over 175001 steps [ 0.0000 through 350.0000 ps ], 3 data sets\n",
      "All statistics are over 1751 points\n",
      "\n",
      "Energy                      Average   Err.Est.       RMSD  Tot-Drift\n",
      "-------------------------------------------------------------------------------\n",
      "Temperature                 339.928         13    27.0919   -51.1194  (K)\n",
      "Pressure                    1.07306         11    97.7433   -46.9999  (bar)\n",
      "Density                     975.346         13    28.3145    48.3626  (kg/m^3)\n",
      "Selected 1: 'Protein'\n",
      "Selected 1: 'Protein'\n",
      "SAMD completed successfully!\n"
     ]
    },
    {
     "name": "stderr",
     "output_type": "stream",
     "text": [
      "                      :-) GROMACS - gmx energy, 2024.4 (-:\n",
      "\n",
      "Executable:   /opt/gromacs-2024.4/bin/gmx\n",
      "Data prefix:  /opt/gromacs-2024.4\n",
      "Working dir:  /home/bio/Desktop/jupyter_test/antibody_test/output_20241125_170832/configuration/cycle1_MD\n",
      "Command line:\n",
      "  gmx energy -f SAMD.edr -o press_SAMD.xvg\n",
      "\n",
      "Opened SAMD.edr as single precision energy file\n",
      "\n",
      "Select the terms you want from the following list by\n",
      "selecting either (part of) the name or the number or a combination.\n",
      "End your selection with an empty line or a zero.\n",
      "-------------------------------------------------------------------\n",
      "  1  Bond             2  Angle            3  Proper-Dih.      4  Per.-Imp.-Dih.\n",
      "  5  LJ-14            6  Coulomb-14       7  LJ-(SR)          8  Disper.-corr. \n",
      "  9  Coulomb-(SR)    10  Coul.-recip.    11  Potential       12  Kinetic-En.   \n",
      " 13  Total-Energy    14  Conserved-En.   15  Temperature     16  Pres.-DC      \n",
      " 17  Pressure        18  Constr.-rmsd    19  Box-X           20  Box-Y         \n",
      " 21  Box-Z           22  Volume          23  Density         24  pV            \n",
      " 25  Enthalpy        26  Vir-XX          27  Vir-XY          28  Vir-XZ        \n",
      " 29  Vir-YX          30  Vir-YY          31  Vir-YZ          32  Vir-ZX        \n",
      " 33  Vir-ZY          34  Vir-ZZ          35  Pres-XX         36  Pres-XY       \n",
      " 37  Pres-XZ         38  Pres-YX         39  Pres-YY         40  Pres-YZ       \n",
      " 41  Pres-ZX         42  Pres-ZY         43  Pres-ZZ         44  #Surf*SurfTen \n",
      " 45  T-Protein                           46  T-non-Protein                     \n",
      " 47  Lamb-Protein                        48  Lamb-non-Protein                  \n",
      "\n",
      "Last energy frame read 50 time  350.000           \n",
      "\n",
      "GROMACS reminds you: \"You got one part of that wrong. This is not meth.\" (Breaking Bad)\n",
      "\n",
      "                       :-) GROMACS - gmx rms, 2024.4 (-:\n",
      "\n",
      "Executable:   /opt/gromacs-2024.4/bin/gmx\n",
      "Data prefix:  /opt/gromacs-2024.4\n",
      "Working dir:  /home/bio/Desktop/jupyter_test/antibody_test/output_20241125_170832/configuration/cycle1_MD\n",
      "Command line:\n",
      "  gmx rms -s system_SAMD.tpr -f traj_SAMD.xtc -o rmsd_SAMD0.xvg -tu ps\n",
      "\n",
      "Reading file system_SAMD.tpr, VERSION 2024.4 (single precision)\n",
      "Reading file system_SAMD.tpr, VERSION 2024.4 (single precision)\n",
      "Select group for least squares fit\n",
      "Group     0 (         System) has 76002 elements\n",
      "Group     1 (        Protein) has  6398 elements\n",
      "Group     2 (      Protein-H) has  3292 elements\n",
      "Group     3 (        C-alpha) has   413 elements\n",
      "Group     4 (       Backbone) has  1239 elements\n",
      "Group     5 (      MainChain) has  1656 elements\n",
      "Group     6 (   MainChain+Cb) has  2035 elements\n",
      "Group     7 (    MainChain+H) has  2063 elements\n",
      "Group     8 (      SideChain) has  4335 elements\n",
      "Group     9 (    SideChain-H) has  1636 elements\n",
      "Group    10 (    Prot-Masses) has  6398 elements\n",
      "Group    11 (    non-Protein) has 69604 elements\n",
      "Group    12 (          Water) has 69603 elements\n",
      "Group    13 (            SOL) has 69603 elements\n",
      "Group    14 (      non-Water) has  6399 elements\n",
      "Group    15 (            Ion) has     1 elements\n",
      "Group    16 ( Water_and_ions) has 69604 elements\n",
      "Select a group: Select group for RMSD calculation\n",
      "Group     0 (         System) has 76002 elements\n",
      "Group     1 (        Protein) has  6398 elements\n",
      "Group     2 (      Protein-H) has  3292 elements\n",
      "Group     3 (        C-alpha) has   413 elements\n",
      "Group     4 (       Backbone) has  1239 elements\n",
      "Group     5 (      MainChain) has  1656 elements\n",
      "Group     6 (   MainChain+Cb) has  2035 elements\n",
      "Group     7 (    MainChain+H) has  2063 elements\n",
      "Group     8 (      SideChain) has  4335 elements\n",
      "Group     9 (    SideChain-H) has  1636 elements\n",
      "Group    10 (    Prot-Masses) has  6398 elements\n",
      "Group    11 (    non-Protein) has 69604 elements\n",
      "Group    12 (          Water) has 69603 elements\n",
      "Group    13 (            SOL) has 69603 elements\n",
      "Group    14 (      non-Water) has  6399 elements\n",
      "Group    15 (            Ion) has     1 elements\n",
      "Group    16 ( Water_and_ions) has 69604 elements\n",
      "Last frame         50 time  350.000   \n",
      "\n",
      "GROMACS reminds you: \"You got one part of that wrong. This is not meth.\" (Breaking Bad)\n",
      "\n"
     ]
    }
   ],
   "source": [
    "make_new_minim_config_samd(\"system_equil.gro\", samd_mdp_path, \"system_Compl_MDstart\", 0)"
   ]
  },
  {
   "cell_type": "code",
   "execution_count": 18,
   "id": "1b698472-1335-417e-bb75-f5120b14d2a0",
   "metadata": {},
   "outputs": [
    {
     "name": "stdout",
     "output_type": "stream",
     "text": [
      "17:13:31 -- Running MD \n"
     ]
    },
    {
     "name": "stderr",
     "output_type": "stream",
     "text": [
      "                      :-) GROMACS - gmx energy, 2024.4 (-:\n",
      "\n",
      "Executable:   /opt/gromacs-2024.4/bin/gmx\n",
      "Data prefix:  /opt/gromacs-2024.4\n",
      "Working dir:  /home/bio/Desktop/jupyter_test/antibody_test/output_20241125_170832/configuration/cycle1_MD\n",
      "Command line:\n",
      "  gmx energy -f PROD.edr -o PROD0.xvg\n",
      "\n",
      "Opened PROD.edr as single precision energy file\n",
      "\n",
      "Select the terms you want from the following list by\n",
      "selecting either (part of) the name or the number or a combination.\n",
      "End your selection with an empty line or a zero.\n",
      "-------------------------------------------------------------------\n",
      "  1  Bond             2  Angle            3  Proper-Dih.      4  Per.-Imp.-Dih.\n",
      "  5  LJ-14            6  Coulomb-14       7  LJ-(SR)          8  Disper.-corr. \n",
      "  9  Coulomb-(SR)    10  Coul.-recip.    11  Potential       12  Kinetic-En.   \n",
      " 13  Total-Energy    14  Conserved-En.   15  Temperature     16  Pres.-DC      \n",
      " 17  Pressure        18  Constr.-rmsd    19  Box-X           20  Box-Y         \n",
      " 21  Box-Z           22  Volume          23  Density         24  pV            \n",
      " 25  Enthalpy        26  Vir-XX          27  Vir-XY          28  Vir-XZ        \n",
      " 29  Vir-YX          30  Vir-YY          31  Vir-YZ          32  Vir-ZX        \n",
      " 33  Vir-ZY          34  Vir-ZZ          35  Pres-XX         36  Pres-XY       \n",
      " 37  Pres-XZ         38  Pres-YX         39  Pres-YY         40  Pres-YZ       \n",
      " 41  Pres-ZX         42  Pres-ZY         43  Pres-ZZ         44  #Surf*SurfTen \n",
      " 45  T-Protein                           46  T-non-Protein                     \n",
      " 47  Lamb-Protein                        48  Lamb-non-Protein                  \n",
      "\n",
      "Last energy frame read 250 time 5000.000          \n",
      "\n",
      "GROMACS reminds you: \"We will always have STEM with us. Some things will drop out of the public eye and will go away, but there will always be science, engineering, and technology. And there will always, always be mathematics.\" (Katherine Johnson)\n",
      "\n",
      "                       :-) GROMACS - gmx rms, 2024.4 (-:\n",
      "\n",
      "Executable:   /opt/gromacs-2024.4/bin/gmx\n",
      "Data prefix:  /opt/gromacs-2024.4\n",
      "Working dir:  /home/bio/Desktop/jupyter_test/antibody_test/output_20241125_170832/configuration/cycle1_MD\n",
      "Command line:\n",
      "  gmx rms -s system_Compl_MD.tpr -f traj_MD.xtc -o rmsd_PROD0.xvg -a avgPROD0.xvg -tu ps\n",
      "\n",
      "Reading file system_Compl_MD.tpr, VERSION 2024.4 (single precision)\n",
      "Reading file system_Compl_MD.tpr, VERSION 2024.4 (single precision)\n",
      "Select group for least squares fit\n",
      "Group     0 (         System) has 76002 elements\n",
      "Group     1 (        Protein) has  6398 elements\n",
      "Group     2 (      Protein-H) has  3292 elements\n",
      "Group     3 (        C-alpha) has   413 elements\n",
      "Group     4 (       Backbone) has  1239 elements\n",
      "Group     5 (      MainChain) has  1656 elements\n",
      "Group     6 (   MainChain+Cb) has  2035 elements\n",
      "Group     7 (    MainChain+H) has  2063 elements\n",
      "Group     8 (      SideChain) has  4335 elements\n",
      "Group     9 (    SideChain-H) has  1636 elements\n",
      "Group    10 (    Prot-Masses) has  6398 elements\n",
      "Group    11 (    non-Protein) has 69604 elements\n",
      "Group    12 (          Water) has 69603 elements\n",
      "Group    13 (            SOL) has 69603 elements\n",
      "Group    14 (      non-Water) has  6399 elements\n",
      "Group    15 (            Ion) has     1 elements\n",
      "Group    16 ( Water_and_ions) has 69604 elements\n",
      "Select a group: Select group for RMSD calculation\n",
      "Group     0 (         System) has 76002 elements\n",
      "Group     1 (        Protein) has  6398 elements\n",
      "Group     2 (      Protein-H) has  3292 elements\n",
      "Group     3 (        C-alpha) has   413 elements\n",
      "Group     4 (       Backbone) has  1239 elements\n",
      "Group     5 (      MainChain) has  1656 elements\n",
      "Group     6 (   MainChain+Cb) has  2035 elements\n",
      "Group     7 (    MainChain+H) has  2063 elements\n",
      "Group     8 (      SideChain) has  4335 elements\n",
      "Group     9 (    SideChain-H) has  1636 elements\n",
      "Group    10 (    Prot-Masses) has  6398 elements\n",
      "Group    11 (    non-Protein) has 69604 elements\n",
      "Group    12 (          Water) has 69603 elements\n",
      "Group    13 (            SOL) has 69603 elements\n",
      "Group    14 (      non-Water) has  6399 elements\n",
      "Group    15 (            Ion) has     1 elements\n",
      "Group    16 ( Water_and_ions) has 69604 elements\n",
      "Reading frame      50 time 1000.000   "
     ]
    },
    {
     "name": "stdout",
     "output_type": "stream",
     "text": [
      "\n",
      "Statistics over 2500001 steps [ 0.0000 through 5000.0000 ps ], 3 data sets\n",
      "All statistics are over 25001 points\n",
      "\n",
      "Energy                      Average   Err.Est.       RMSD  Tot-Drift\n",
      "-------------------------------------------------------------------------------\n",
      "Temperature                 310.042      0.024    1.22827  0.0919246  (K)\n",
      "Pressure                    1.72346        0.3    99.7934 -0.0356374  (bar)\n",
      "Density                     1005.86      0.042    1.99317  0.0197834  (kg/m^3)\n"
     ]
    },
    {
     "name": "stderr",
     "output_type": "stream",
     "text": [
      "Reading frame     170 time 3400.000   "
     ]
    },
    {
     "name": "stdout",
     "output_type": "stream",
     "text": [
      "Selected 1: 'Protein'\n",
      "Selected 1: 'Protein'\n"
     ]
    },
    {
     "name": "stderr",
     "output_type": "stream",
     "text": [
      "Reading frame     200 time 4000.000   \n",
      "\n",
      "GROMACS reminds you: \"One Cross Each\" (Monty Python)\n",
      "\n"
     ]
    }
   ],
   "source": [
    "run_md(md_mdp_path,\"system_Compl_MD\", \"traj_MD\", 0, 1)"
   ]
  },
  {
   "cell_type": "code",
   "execution_count": 19,
   "id": "c4d04333-7f69-4f81-8599-3ab250e0f4f2",
   "metadata": {},
   "outputs": [],
   "source": [
    "#ConfName = f\"cycle{cycle_number}\"\n",
    "ConfName = \"cycle1\"\n",
    "#RootName = f\"cycle{cycle_number}_BE\"\n",
    "RootName = \"cycle1_BE\"\n",
    "cycle_number_MD_FOLDER = folders[\"cycle1_MD\"]"
   ]
  },
  {
   "cell_type": "code",
   "execution_count": 20,
   "id": "1134a1e6-3c35-43c6-af4a-e4bb5c16a34a",
   "metadata": {},
   "outputs": [],
   "source": [
    "os.chdir(cycle_number_MD_FOLDER )"
   ]
  },
  {
   "cell_type": "code",
   "execution_count": 23,
   "id": "5316e549-5841-45d6-8515-9a3f597f1594",
   "metadata": {},
   "outputs": [],
   "source": [
    "import sys\n",
    "sys.path.append(FUNCTION_DIR)\n",
    "from FUNCTION.GMXMMPBSA import files_gmxmmpbsa"
   ]
  },
  {
   "cell_type": "code",
   "execution_count": 24,
   "id": "8eb6382a-e026-421f-85d5-5b19bbad3011",
   "metadata": {},
   "outputs": [
    {
     "name": "stdout",
     "output_type": "stream",
     "text": [
      "\t\t--running MAKE_NDX to create index.ndx..\n",
      "Going to read 0 old index file(s)\n",
      "Analysing residue names:\n",
      "There are:   413    Protein residues\n",
      "There are: 23201      Water residues\n",
      "There are:     1        Ion residues\n",
      "Analysing Protein...\n",
      "\n",
      "  0 System              : 76002 atoms\n",
      "  1 Protein             :  6398 atoms\n",
      "  2 Protein-H           :  3292 atoms\n",
      "  3 C-alpha             :   413 atoms\n",
      "  4 Backbone            :  1239 atoms\n",
      "  5 MainChain           :  1656 atoms\n",
      "  6 MainChain+Cb        :  2035 atoms\n",
      "  7 MainChain+H         :  2063 atoms\n",
      "  8 SideChain           :  4335 atoms\n",
      "  9 SideChain-H         :  1636 atoms\n",
      " 10 Prot-Masses         :  6398 atoms\n",
      " 11 non-Protein         : 69604 atoms\n",
      " 12 Water               : 69603 atoms\n",
      " 13 SOL                 : 69603 atoms\n",
      " 14 non-Water           :  6399 atoms\n",
      " 15 Ion                 :     1 atoms\n",
      " 16 Water_and_ions      : 69604 atoms\n",
      "\n",
      " nr : group      '!': not  'name' nr name   'splitch' nr    Enter: list groups\n",
      " 'a': atom       '&': and  'del' nr         'splitres' nr   'l': list residues\n",
      " 't': atom type  '|': or   'keep' nr        'splitat' nr    'h': help\n",
      " 'r': residue              'res' nr         'chain' char\n",
      " \"name\": group             'case': case sensitive           'q': save and quit\n",
      " 'ri': residue index\n",
      "\n",
      "> \n",
      "Removed group 2 'Protein-H'\n",
      "Removed group 3 'C-alpha'\n",
      "Removed group 4 'Backbone'\n",
      "Removed group 5 'MainChain'\n",
      "Removed group 6 'MainChain+Cb'\n",
      "Removed group 7 'MainChain+H'\n",
      "Removed group 8 'SideChain'\n",
      "Removed group 9 'SideChain-H'\n",
      "Removed group 10 'Prot-Masses'\n",
      "Removed group 11 'non-Protein'\n",
      "Removed group 12 'Water'\n",
      "Removed group 13 'SOL'\n",
      "Removed group 14 'non-Water'\n",
      "Removed group 15 'Ion'\n",
      "Removed group 16 'Water_and_ions'\n",
      "Removed group 0 'System'\n",
      "\n",
      "> \n",
      "\n",
      "  0 Protein             :  6398 atoms\n",
      "\n",
      " nr : group      '!': not  'name' nr name   'splitch' nr    Enter: list groups\n",
      " 'a': atom       '&': and  'del' nr         'splitres' nr   'l': list residues\n",
      " 't': atom type  '|': or   'keep' nr        'splitat' nr    'h': help\n",
      " 'r': residue              'res' nr         'chain' char\n",
      " \"name\": group             'case': case sensitive           'q': save and quit\n",
      " 'ri': residue index\n",
      "\n",
      "> \n"
     ]
    },
    {
     "name": "stderr",
     "output_type": "stream",
     "text": [
      "                     :-) GROMACS - gmx make_ndx, 2024.4 (-:\n",
      "\n",
      "Executable:   /opt/gromacs-2024.4/bin/gmx\n",
      "Data prefix:  /opt/gromacs-2024.4\n",
      "Working dir:  /home/bio/Desktop/jupyter_test/antibody_test/output_20241125_170832/configuration/cycle1_MD\n",
      "Command line:\n",
      "  gmx make_ndx -f system_Compl_MD.gro -o index.ndx\n",
      "\n",
      "\n",
      "Reading structure file\n",
      "\n",
      "Back Off! I just backed up index.ndx to ./#index.ndx.1#\n",
      "\n",
      "GROMACS reminds you: \"Life would be tragic if it weren't funny.\" (Stephen Hawking)\n",
      "\n"
     ]
    },
    {
     "ename": "NameError",
     "evalue": "name 'shutil' is not defined",
     "output_type": "error",
     "traceback": [
      "\u001b[0;31m---------------------------------------------------------------------------\u001b[0m",
      "\u001b[0;31mNameError\u001b[0m                                 Traceback (most recent call last)",
      "Cell \u001b[0;32mIn[24], line 5\u001b[0m\n\u001b[1;32m      1\u001b[0m repository_pdb_file \u001b[38;5;241m=\u001b[39m os\u001b[38;5;241m.\u001b[39mpath\u001b[38;5;241m.\u001b[39mjoin(folders[\u001b[38;5;124m\"\u001b[39m\u001b[38;5;124mrepository\u001b[39m\u001b[38;5;124m\"\u001b[39m], \u001b[38;5;124mf\u001b[39m\u001b[38;5;124m\"\u001b[39m\u001b[38;5;132;01m{\u001b[39;00mprotein_infile\u001b[38;5;132;01m}\u001b[39;00m\u001b[38;5;124m.pdb\u001b[39m\u001b[38;5;124m\"\u001b[39m)\n\u001b[1;32m      2\u001b[0m \u001b[38;5;66;03m#startingFrameGMXPBSA=\"2000\"\u001b[39;00m\n\u001b[1;32m      3\u001b[0m \u001b[38;5;66;03m# make files for gmx_mmpbsa\u001b[39;00m\n\u001b[1;32m      4\u001b[0m \u001b[38;5;66;03m# files_gmxmmpbsa(starting_gro_file, repository_pdb_file, trj_file, tpr_file, top_file, mdp_name, root_name, conf_name, vmd_function_folder, temp_files_folder)\u001b[39;00m\n\u001b[0;32m----> 5\u001b[0m files_gmxmmpbsa(\u001b[38;5;124m\"\u001b[39m\u001b[38;5;124msystem_Compl_MD\u001b[39m\u001b[38;5;124m\"\u001b[39m, repository_pdb_file, \u001b[38;5;124m\"\u001b[39m\u001b[38;5;124mtraj_MD\u001b[39m\u001b[38;5;124m\"\u001b[39m, \u001b[38;5;124m\"\u001b[39m\u001b[38;5;124msystem_Compl_MD\u001b[39m\u001b[38;5;124m\"\u001b[39m, \u001b[38;5;124m\"\u001b[39m\u001b[38;5;124mtopol\u001b[39m\u001b[38;5;124m\"\u001b[39m, only_protein_md_mdp_path, RootName, ConfName, VMD_DIR, folders[\u001b[38;5;124m\"\u001b[39m\u001b[38;5;124mTEMP_FILES_FOLDER\u001b[39m\u001b[38;5;124m\"\u001b[39m])\n",
      "File \u001b[0;32m~/Desktop/jupyter_test/antibody_test/FUNCTION/GMXMMPBSA.py:270\u001b[0m, in \u001b[0;36mfiles_gmxmmpbsa\u001b[0;34m(starting_gro_file, repository_pdb_file, trj_file, tpr_file, top_file, mdp_name, root_name, conf_name, vmd_function_folder, temp_files_folder, startingFrameGMXPBSA, receptor_frag, ab_chains)\u001b[0m\n\u001b[1;32m    268\u001b[0m FileNamePDB_OUT \u001b[38;5;241m=\u001b[39m \u001b[38;5;124mf\u001b[39m\u001b[38;5;124m\"\u001b[39m\u001b[38;5;132;01m{\u001b[39;00mconf_name\u001b[38;5;132;01m}\u001b[39;00m\u001b[38;5;124m_starting_protein\u001b[39m\u001b[38;5;124m\"\u001b[39m\n\u001b[1;32m    269\u001b[0m \u001b[38;5;66;03m# RUN GRO_TO_PDB\u001b[39;00m\n\u001b[0;32m--> 270\u001b[0m GRO_to_PDB(fileNameGRO, pathPDB, fileNamePDB, FileNamePDB_OUT, vmd_function_folder, temp_files_folder)\n\u001b[1;32m    272\u001b[0m remove_pbc(trj_file, tpr_file, startingFrameGMXPBSA, root_name, conf_name)\n\u001b[1;32m    273\u001b[0m make_index(conf_name, root_name, receptor_frag, ab_chains)\n",
      "File \u001b[0;32m~/Desktop/jupyter_test/antibody_test/FUNCTION/GMXMMPBSA.py:26\u001b[0m, in \u001b[0;36mGRO_to_PDB\u001b[0;34m(fileNameGRO, pathPDB, fileNamePDB, FileNamePDB_OUT, vmd_function_folder, temp_files_folder, pathGRO)\u001b[0m\n\u001b[1;32m     13\u001b[0m \u001b[38;5;28;01mdef\u001b[39;00m \u001b[38;5;21mGRO_to_PDB\u001b[39m(fileNameGRO, pathPDB, fileNamePDB, FileNamePDB_OUT, vmd_function_folder, temp_files_folder,pathGRO \u001b[38;5;241m=\u001b[39m os\u001b[38;5;241m.\u001b[39mgetcwd()):\n\u001b[1;32m     14\u001b[0m \u001b[38;5;250m    \u001b[39m\u001b[38;5;124;03m\"\"\"\u001b[39;00m\n\u001b[1;32m     15\u001b[0m \u001b[38;5;124;03m    Converts a GRO file to a PDB file using VMD.\u001b[39;00m\n\u001b[1;32m     16\u001b[0m \n\u001b[0;32m   (...)\u001b[0m\n\u001b[1;32m     23\u001b[0m \u001b[38;5;124;03m        vmd_executable (str): Path to VMD executable.\u001b[39;00m\n\u001b[1;32m     24\u001b[0m \u001b[38;5;124;03m    \"\"\"\u001b[39;00m\n\u001b[0;32m---> 26\u001b[0m     vmd \u001b[38;5;241m=\u001b[39m shutil\u001b[38;5;241m.\u001b[39mwhich(\u001b[38;5;124m\"\u001b[39m\u001b[38;5;124mvmd\u001b[39m\u001b[38;5;124m\"\u001b[39m)\n\u001b[1;32m     27\u001b[0m     \u001b[38;5;28;01mif\u001b[39;00m \u001b[38;5;129;01mnot\u001b[39;00m vmd:\n\u001b[1;32m     28\u001b[0m         \u001b[38;5;28;01mraise\u001b[39;00m \u001b[38;5;167;01mFileNotFoundError\u001b[39;00m(\u001b[38;5;124m\"\u001b[39m\u001b[38;5;124mVMD not found. please ensure VMD is installed and added to PATH\u001b[39m\u001b[38;5;124m\"\u001b[39m)\n",
      "\u001b[0;31mNameError\u001b[0m: name 'shutil' is not defined"
     ]
    }
   ],
   "source": [
    "repository_pdb_file = os.path.join(folders[\"repository\"], f\"{protein_infile}.pdb\")\n",
    "#startingFrameGMXPBSA=\"2000\"\n",
    "# make files for gmx_mmpbsa\n",
    "# files_gmxmmpbsa(starting_gro_file, repository_pdb_file, trj_file, tpr_file, top_file, mdp_name, root_name, conf_name, vmd_function_folder, temp_files_folder)\n",
    "files_gmxmmpbsa(\"system_Compl_MD\", repository_pdb_file, \"traj_MD\", \"system_Compl_MD\", \"topol\", only_protein_md_mdp_path, RootName, ConfName, VMD_DIR, folders[\"TEMP_FILES_FOLDER\"])\n"
   ]
  },
  {
   "cell_type": "code",
   "execution_count": 22,
   "id": "3ae06031-8ce7-458f-b58d-f210e7acc519",
   "metadata": {},
   "outputs": [],
   "source": [
    "starting_gro_file = \"system_Compl_MD\"\n",
    "repository_pdb_file = os.path.join(folders[\"repository\"], f\"{protein_infile}.pdb\")\n",
    "trj_file = \"traj_MD\"\n",
    "tpr_file = \"system_Compl_MD\"\n",
    "top_file = \"topol\"\n",
    "mdp_name = only_protein_md_mdp_path\n",
    "root_name = RootName\n",
    "conf_name = ConfName\n",
    "vmd_function_folder = VMD_DIR\n",
    "temp_files_folder = folders[\"TEMP_FILES_FOLDER\"]"
   ]
  },
  {
   "cell_type": "code",
   "execution_count": null,
   "id": "b418e635-e9d4-4c9e-a34e-45eb69f229ba",
   "metadata": {},
   "outputs": [],
   "source": []
  },
  {
   "cell_type": "code",
   "execution_count": 23,
   "id": "f21cc946-2b6b-476e-aa71-0c6a733131a0",
   "metadata": {},
   "outputs": [],
   "source": [
    "if not os.path.exists(root_name):\n",
    "    os.makedirs(root_name)\n",
    "for filename in os.listdir(root_name):\n",
    "    file_path = os.path.join(root_name, filename)\n",
    "    if os.path.isfile(file_path):\n",
    "        os.remove(file_path)"
   ]
  },
  {
   "cell_type": "code",
   "execution_count": 32,
   "id": "d6c6123e-7c91-4e96-a8bd-72a0553f11e4",
   "metadata": {},
   "outputs": [
    {
     "name": "stdout",
     "output_type": "stream",
     "text": [
      "                     :-) GROMACS - gmx make_ndx, 2024.4 (-:\n",
      "\n",
      "Executable:   /opt/gromacs-2024.4/bin/gmx\n",
      "Data prefix:  /opt/gromacs-2024.4\n",
      "Working dir:  /home/bio/Desktop/jupyter_test/antibody_test/output_20241125_103854/configuration/cycle1_MD\n",
      "Command line:\n",
      "  gmx make_ndx -f system_Compl_MD.gro -o index.ndx\n",
      "\n",
      "\n",
      "Reading structure file\n",
      "Going to read 0 old index file(s)\n",
      "Analysing residue names:\n",
      "There are:   413    Protein residues\n",
      "There are: 23201      Water residues\n",
      "There are:     1        Ion residues\n",
      "Analysing Protein...\n",
      "\n",
      "  0 System              : 76002 atoms\n",
      "  1 Protein             :  6398 atoms\n",
      "  2 Protein-H           :  3292 atoms\n",
      "  3 C-alpha             :   413 atoms\n",
      "  4 Backbone            :  1239 atoms\n",
      "  5 MainChain           :  1656 atoms\n",
      "  6 MainChain+Cb        :  2035 atoms\n",
      "  7 MainChain+H         :  2063 atoms\n",
      "  8 SideChain           :  4335 atoms\n",
      "  9 SideChain-H         :  1636 atoms\n",
      " 10 Prot-Masses         :  6398 atoms\n",
      " 11 non-Protein         : 69604 atoms\n",
      " 12 Water               : 69603 atoms\n",
      " 13 SOL                 : 69603 atoms\n",
      " 14 non-Water           :  6399 atoms\n",
      " 15 Ion                 :     1 atoms\n",
      " 16 Water_and_ions      : 69604 atoms\n",
      "\n",
      " nr : group      '!': not  'name' nr name   'splitch' nr    Enter: list groups\n",
      " 'a': atom       '&': and  'del' nr         'splitres' nr   'l': list residues\n",
      " 't': atom type  '|': or   'keep' nr        'splitat' nr    'h': help\n",
      " 'r': residue              'res' nr         'chain' char\n",
      " \"name\": group             'case': case sensitive           'q': save and quit\n",
      " 'ri': residue index\n",
      "\n",
      "> \n",
      "Removed group 2 'Protein-H'\n",
      "Removed group 3 'C-alpha'\n",
      "Removed group 4 'Backbone'\n",
      "Removed group 5 'MainChain'\n",
      "Removed group 6 'MainChain+Cb'\n",
      "Removed group 7 'MainChain+H'\n",
      "Removed group 8 'SideChain'\n",
      "Removed group 9 'SideChain-H'\n",
      "Removed group 10 'Prot-Masses'\n",
      "Removed group 11 'non-Protein'\n",
      "Removed group 12 'Water'\n",
      "Removed group 13 'SOL'\n",
      "Removed group 14 'non-Water'\n",
      "Removed group 15 'Ion'\n",
      "Removed group 16 'Water_and_ions'\n",
      "Removed group 0 'System'\n",
      "\n",
      "> \n",
      "\n",
      "  0 Protein             :  6398 atoms\n",
      "\n",
      " nr : group      '!': not  'name' nr name   'splitch' nr    Enter: list groups\n",
      " 'a': atom       '&': and  'del' nr         'splitres' nr   'l': list residues\n",
      " 't': atom type  '|': or   'keep' nr        'splitat' nr    'h': help\n",
      " 'r': residue              'res' nr         'chain' char\n",
      " \"name\": group             'case': case sensitive           'q': save and quit\n",
      " 'ri': residue index\n",
      "\n",
      "> \n",
      "\n",
      "GROMACS reminds you: \"Torture numbers, and they'll confess to anything.\" (Greg Easterbrook)\n",
      "\n"
     ]
    }
   ],
   "source": [
    "!echo -e 'keep 1\\n\\nq\\n' | gmx make_ndx -f {starting_gro_file}.gro -o index.ndx"
   ]
  },
  {
   "cell_type": "code",
   "execution_count": 24,
   "id": "1c204fc5-824c-46e3-8085-c6a023cf6c0e",
   "metadata": {
    "scrolled": true
   },
   "outputs": [
    {
     "name": "stdout",
     "output_type": "stream",
     "text": [
      "\t\t--running MAKE_NDX to create index.ndx..\n",
      "Going to read 0 old index file(s)\n",
      "Analysing residue names:\n",
      "There are:   413    Protein residues\n",
      "There are: 23201      Water residues\n",
      "There are:     1        Ion residues\n",
      "Analysing Protein...\n",
      "\n",
      "  0 System              : 76002 atoms\n",
      "  1 Protein             :  6398 atoms\n",
      "  2 Protein-H           :  3292 atoms\n",
      "  3 C-alpha             :   413 atoms\n",
      "  4 Backbone            :  1239 atoms\n",
      "  5 MainChain           :  1656 atoms\n",
      "  6 MainChain+Cb        :  2035 atoms\n",
      "  7 MainChain+H         :  2063 atoms\n",
      "  8 SideChain           :  4335 atoms\n",
      "  9 SideChain-H         :  1636 atoms\n",
      " 10 Prot-Masses         :  6398 atoms\n",
      " 11 non-Protein         : 69604 atoms\n",
      " 12 Water               : 69603 atoms\n",
      " 13 SOL                 : 69603 atoms\n",
      " 14 non-Water           :  6399 atoms\n",
      " 15 Ion                 :     1 atoms\n",
      " 16 Water_and_ions      : 69604 atoms\n",
      "\n",
      " nr : group      '!': not  'name' nr name   'splitch' nr    Enter: list groups\n",
      " 'a': atom       '&': and  'del' nr         'splitres' nr   'l': list residues\n",
      " 't': atom type  '|': or   'keep' nr        'splitat' nr    'h': help\n",
      " 'r': residue              'res' nr         'chain' char\n",
      " \"name\": group             'case': case sensitive           'q': save and quit\n",
      " 'ri': residue index\n",
      "\n",
      "> \n",
      "Removed group 2 'Protein-H'\n",
      "Removed group 3 'C-alpha'\n",
      "Removed group 4 'Backbone'\n",
      "Removed group 5 'MainChain'\n",
      "Removed group 6 'MainChain+Cb'\n",
      "Removed group 7 'MainChain+H'\n",
      "Removed group 8 'SideChain'\n",
      "Removed group 9 'SideChain-H'\n",
      "Removed group 10 'Prot-Masses'\n",
      "Removed group 11 'non-Protein'\n",
      "Removed group 12 'Water'\n",
      "Removed group 13 'SOL'\n",
      "Removed group 14 'non-Water'\n",
      "Removed group 15 'Ion'\n",
      "Removed group 16 'Water_and_ions'\n",
      "Removed group 0 'System'\n",
      "\n",
      "> \n",
      "\n",
      "  0 Protein             :  6398 atoms\n",
      "\n",
      " nr : group      '!': not  'name' nr name   'splitch' nr    Enter: list groups\n",
      " 'a': atom       '&': and  'del' nr         'splitres' nr   'l': list residues\n",
      " 't': atom type  '|': or   'keep' nr        'splitat' nr    'h': help\n",
      " 'r': residue              'res' nr         'chain' char\n",
      " \"name\": group             'case': case sensitive           'q': save and quit\n",
      " 'ri': residue index\n",
      "\n",
      "> \n"
     ]
    },
    {
     "name": "stderr",
     "output_type": "stream",
     "text": [
      "                     :-) GROMACS - gmx make_ndx, 2024.4 (-:\n",
      "\n",
      "Executable:   /opt/gromacs-2024.4/bin/gmx\n",
      "Data prefix:  /opt/gromacs-2024.4\n",
      "Working dir:  /home/bio/Desktop/jupyter_test/antibody_test/output_20241125_150425/configuration/cycle1_MD\n",
      "Command line:\n",
      "  gmx make_ndx -f system_Compl_MD.gro -o index.ndx\n",
      "\n",
      "\n",
      "Reading structure file\n",
      "\n",
      "GROMACS reminds you: \"Garbage Collecting...\" (GNU Emacs)\n",
      "\n"
     ]
    }
   ],
   "source": [
    "import subprocess\n",
    "# use make_ndx to get index.ndx\n",
    "print(\"\\t\\t--running MAKE_NDX to create index.ndx..\")\n",
    "make_ndx_command = f\"echo -e 'keep 1\\n\\nq\\n' | gmx make_ndx -f {starting_gro_file}.gro -o index.ndx\"\n",
    "try:\n",
    "    subprocess.run(make_ndx_command, shell=True, check=True,executable = \"/bin/bash\")\n",
    "except subprocess.CalledProcessError:\n",
    "    print(\"Something wrong during running MAKE_NDX!\")"
   ]
  },
  {
   "cell_type": "code",
   "execution_count": 28,
   "id": "4175e89a-b858-44c4-872c-0ecf6b6cd9ef",
   "metadata": {},
   "outputs": [
    {
     "data": {
      "text/plain": [
       "'/home/bio/Desktop/jupyter_test/antibody_test/output_20241125_150425/configuration/REPOSITORY/HLA_BiAB_protein_50ns.pdb'"
      ]
     },
     "execution_count": 28,
     "metadata": {},
     "output_type": "execute_result"
    }
   ],
   "source": [
    "folders[\"repository\"]\n",
    "repository_pdb_file = os.path.join(folders[\"repository\"], f\"{protein_infile}.pdb\")\n",
    "repository_pdb_file"
   ]
  },
  {
   "cell_type": "code",
   "execution_count": 43,
   "id": "4de6d47d-0e51-4731-96e2-a95248de2234",
   "metadata": {},
   "outputs": [
    {
     "name": "stdout",
     "output_type": "stream",
     "text": [
      "/home/bio/Desktop/jupyter_test/antibody_test/output_20241125_150425/configuration/REPOSITORY system_Compl_MD HLA_BiAB_protein_50ns /home/bio/Desktop/jupyter_test/antibody_test/VMD_FUNCTION /home/bio/Desktop/jupyter_test/antibody_test/output_20241125_150425/configuration/TEMP_FILES_FOLDER\n"
     ]
    }
   ],
   "source": [
    "starting_gro_file = \"system_Compl_MD\"\n",
    "fileNameGRO = starting_gro_file\n",
    "\n",
    "pathPDB = os.path.dirname(repository_pdb_file)\n",
    "pdb_name_with_extension = os.path.basename(repository_pdb_file) #xxxx.pdb\n",
    "pdb_name_without_extension = os.path.splitext(pdb_name_with_extension)[0] #xxxx\n",
    "fileNamePDB = pdb_name_without_extension\n",
    "FileNamePDB_OUT = f\"{conf_name}_starting_protein\"\n",
    "\n",
    "print(pathPDB, \n",
    "      fileNameGRO, \n",
    "      fileNamePDB, \n",
    "      vmd_function_folder, \n",
    "      temp_files_folder)"
   ]
  },
  {
   "cell_type": "code",
   "execution_count": 44,
   "id": "f2b972f5-e6b5-45b3-a836-4aefb049d622",
   "metadata": {},
   "outputs": [
    {
     "data": {
      "text/plain": [
       "'cycle1'"
      ]
     },
     "execution_count": 44,
     "metadata": {},
     "output_type": "execute_result"
    }
   ],
   "source": [
    "FileNamePDB_OUT"
   ]
  },
  {
   "cell_type": "code",
   "execution_count": 45,
   "id": "a91bbd05-bf49-4e50-908c-a5276e4cfa17",
   "metadata": {},
   "outputs": [],
   "source": [
    "def GRO_to_PDB(fileNameGRO, pathPDB, fileNamePDB, FileNamePDB_OUT, vmd_function_folder, temp_files_folder,pathGRO = os.getcwd()):\n",
    "    \"\"\"\n",
    "    Converts a GRO file to a PDB file using VMD.\n",
    "\n",
    "    Parameters:\n",
    "        pathGRO (str): Path to the input GRO file.\n",
    "        fileNameGRO (str): Name of the GRO file.\n",
    "        pathPDB (str): Path to the output PDB file. \n",
    "        fileNamePDB (str): Name of the output PDB file.\n",
    "        temp_files_folder (str): Temporary files folder.\n",
    "        vmd_executable (str): Path to VMD executable.\n",
    "    \"\"\"\n",
    "    \n",
    "    vmd = shutil.which(\"vmd\")\n",
    "    if not vmd:\n",
    "        raise FileNotFoundError(\"VMD not found. please ensure VMD is installed and added to PATH\")\n",
    "    # Paths and filenames\n",
    "    vmd_script = os.path.join(temp_files_folder, \"vmd_GRO_to_PDB.tcl\")\n",
    "    log_file = os.path.join(temp_files_folder, \"vmd_GRO_to_PDB.out\")\n",
    "    function_tcl = os.path.join(vmd_function_folder, \"VMD_function_GRO_to_PDB.tcl\")\n",
    "\n",
    "    # Ensure paths and required files exist\n",
    "    if not os.path.exists(temp_files_folder):\n",
    "        os.makedirs(temp_files_folder)\n",
    "    if not os.path.isfile(function_tcl):\n",
    "        raise FileNotFoundError(f\"Function script missing: {function_tcl}\")\n",
    "\n",
    "    if not FileNamePDB_OUT:\n",
    "        FileNamePDB_OUT = fileNameGRO\n",
    "\n",
    "    # Write VMD TCL script\n",
    "    tcl_content = f\"\"\"\n",
    "    variable _pathGRO \"{pathGRO}\"\n",
    "    variable _FileNameGRO \"{fileNameGRO}\"\n",
    "    variable _pathPDB \"{pathPDB}\"\n",
    "    variable _FileNamePDB \"{fileNamePDB}\"\n",
    "    variable _FileNamePDB_OUT \"{FileNamePDB_OUT}\"\n",
    "    \"\"\"\n",
    "    with open(vmd_script, 'w') as f:\n",
    "        f.write(tcl_content)\n",
    "        f.write(open(function_tcl).read())\n",
    "\n",
    "    # Execute VMD\n",
    "    result = subprocess.run(\n",
    "        [vmd, \"-dispdev\", \"none\", \"-e\", vmd_script],\n",
    "        stdout=subprocess.PIPE, stderr=subprocess.PIPE, text=True\n",
    "    )\n",
    "\n",
    "    # Log results\n",
    "    with open(log_file, 'w') as log:\n",
    "        log.write(result.stdout + result.stderr)\n",
    "\n",
    "    if result.returncode != 0:\n",
    "        raise RuntimeError(f\"VMD execution failed. Check log: {log_file}\")\n",
    "\n",
    "    print(f\"GRO to PDB completed successfully: {fileNamePDB}\")\n",
    "\n",
    "#GRO_to_PDB(pathGRO, fileNameGRO, pathPDB, fileNamePDB, vmd_function_folder, vmd_executable, temp_files_folder)"
   ]
  },
  {
   "cell_type": "code",
   "execution_count": 40,
   "id": "73637fe9-058e-4f30-aa1c-c86c2ac665e5",
   "metadata": {},
   "outputs": [
    {
     "data": {
      "text/plain": [
       "'/usr/local/bin/vmd'"
      ]
     },
     "execution_count": 40,
     "metadata": {},
     "output_type": "execute_result"
    }
   ],
   "source": [
    "vmd = shutil.which(\"vmd\")\n",
    "vmd"
   ]
  },
  {
   "cell_type": "code",
   "execution_count": 47,
   "id": "c8cb1ad7-f0cf-45de-a8f2-83c6b0f6b64f",
   "metadata": {},
   "outputs": [
    {
     "name": "stdout",
     "output_type": "stream",
     "text": [
      "GRO to PDB completed successfully: HLA_BiAB_protein_50ns\n"
     ]
    }
   ],
   "source": [
    "GRO_to_PDB(fileNameGRO, pathPDB, fileNamePDB, FileNamePDB_OUT, vmd_function_folder, temp_files_folder)"
   ]
  },
  {
   "cell_type": "code",
   "execution_count": 58,
   "id": "07f9a817-17c1-403c-8268-0dd8396dd4fd",
   "metadata": {},
   "outputs": [],
   "source": [
    "def run_command(cmd, input_data):\n",
    "    \"\"\"运行带交互输入的命令\"\"\"\n",
    "    try:\n",
    "        process = subprocess.Popen(\n",
    "            cmd,\n",
    "            stdin=subprocess.PIPE,\n",
    "            stdout=subprocess.PIPE,\n",
    "            stderr=subprocess.PIPE,\n",
    "            text=True,\n",
    "        )\n",
    "        stdout, stderr = process.communicate(input=input_data)\n",
    "        if process.returncode != 0:\n",
    "            raise RuntimeError(f\"Command failed: {stderr}\")\n",
    "        return stdout\n",
    "    except Exception as e:\n",
    "        print(f\"Error executing command: {cmd}\\n{e}\")\n",
    "        raise\n",
    "\n",
    "def remove_pbc(trj_file, tpr_file, startingFrameGMXPBSA, root_name, conf_name):\n",
    "    \"\"\"移除周期性边界条件 (PBC)\"\"\"\n",
    "    print(\"\\t\\t--running TRJCONV to remove the pbc from the trajectory..\")\n",
    "    \n",
    "    # 第一次 TRJCONV\n",
    "    cmd1 = [\n",
    "        \"gmx\", \"trjconv\", \"-n\", \"index.ndx\", \"-f\", f\"{trj_file}.xtc\",\n",
    "        \"-o\", \"./nptMD_nojump_temp.xtc\", \"-s\", tpr_file, \"-pbc\", \"nojump\", \"-b\", startingFrameGMXPBSA\n",
    "    ]\n",
    "    run_command(cmd1, input_data=\"0\\n\")\n",
    "    \n",
    "    # 第二次 TRJCONV\n",
    "    cmd2 = [\n",
    "        \"gmx\", \"trjconv\", \"-n\", \"index.ndx\", \"-f\", \"./nptMD_nojump_temp.xtc\",\n",
    "        \"-o\", f\"./{root_name}/{conf_name}_noPBC.xtc\", \"-s\", tpr_file, \"-pbc\", \"mol\", \"-center\"\n",
    "    ]\n",
    "    run_command(cmd2, input_data=\"1\\n0\\n\")\n",
    "    \n",
    "    # 检查生成的轨迹文件\n",
    "    cmd_check = [\"gmx\", \"check\", \"-f\", f\"./{root_name}/{conf_name}_noPBC.xtc\"]\n",
    "    run_command(cmd_check,input_data=None)\n",
    "    print(\"\\t\\t--TRJCONV completed successfully!\")"
   ]
  },
  {
   "cell_type": "code",
   "execution_count": 60,
   "id": "c43ba87a-7097-4a97-b705-32c6bb1d47be",
   "metadata": {},
   "outputs": [
    {
     "data": {
      "text/plain": [
       "'Checking file ./cycle1_BE/cycle1_noPBC.xtc\\n'"
      ]
     },
     "execution_count": 60,
     "metadata": {},
     "output_type": "execute_result"
    }
   ],
   "source": [
    "cmd_check = [\"gmx\", \"check\", \"-f\", f\"./{root_name}/{conf_name}_noPBC.xtc\"]\n",
    "run_command(cmd_check,input_data=None)"
   ]
  },
  {
   "cell_type": "code",
   "execution_count": 59,
   "id": "3f0cf2b8-b101-4036-b43d-297a5f2f977f",
   "metadata": {},
   "outputs": [
    {
     "name": "stdout",
     "output_type": "stream",
     "text": [
      "\t\t--running TRJCONV to remove the pbc from the trajectory..\n"
     ]
    },
    {
     "ename": "TypeError",
     "evalue": "run_command() missing 1 required positional argument: 'input_data'",
     "output_type": "error",
     "traceback": [
      "\u001b[0;31m---------------------------------------------------------------------------\u001b[0m",
      "\u001b[0;31mTypeError\u001b[0m                                 Traceback (most recent call last)",
      "Cell \u001b[0;32mIn[59], line 2\u001b[0m\n\u001b[1;32m      1\u001b[0m startingFrameGMXPBSA \u001b[38;5;241m=\u001b[39m \u001b[38;5;124m\"\u001b[39m\u001b[38;5;124m2000\u001b[39m\u001b[38;5;124m\"\u001b[39m\n\u001b[0;32m----> 2\u001b[0m remove_pbc(trj_file, tpr_file, startingFrameGMXPBSA, root_name, conf_name)\n",
      "Cell \u001b[0;32mIn[58], line 39\u001b[0m, in \u001b[0;36mremove_pbc\u001b[0;34m(trj_file, tpr_file, startingFrameGMXPBSA, root_name, conf_name)\u001b[0m\n\u001b[1;32m     37\u001b[0m \u001b[38;5;66;03m# 检查生成的轨迹文件\u001b[39;00m\n\u001b[1;32m     38\u001b[0m cmd_check \u001b[38;5;241m=\u001b[39m [\u001b[38;5;124m\"\u001b[39m\u001b[38;5;124mgmx\u001b[39m\u001b[38;5;124m\"\u001b[39m, \u001b[38;5;124m\"\u001b[39m\u001b[38;5;124mcheck\u001b[39m\u001b[38;5;124m\"\u001b[39m, \u001b[38;5;124m\"\u001b[39m\u001b[38;5;124m-f\u001b[39m\u001b[38;5;124m\"\u001b[39m, \u001b[38;5;124mf\u001b[39m\u001b[38;5;124m\"\u001b[39m\u001b[38;5;124m./\u001b[39m\u001b[38;5;132;01m{\u001b[39;00mroot_name\u001b[38;5;132;01m}\u001b[39;00m\u001b[38;5;124m/\u001b[39m\u001b[38;5;132;01m{\u001b[39;00mconf_name\u001b[38;5;132;01m}\u001b[39;00m\u001b[38;5;124m_noPBC.xtc\u001b[39m\u001b[38;5;124m\"\u001b[39m]\n\u001b[0;32m---> 39\u001b[0m run_command(cmd_check)\n\u001b[1;32m     40\u001b[0m \u001b[38;5;28mprint\u001b[39m(\u001b[38;5;124m\"\u001b[39m\u001b[38;5;130;01m\\t\u001b[39;00m\u001b[38;5;130;01m\\t\u001b[39;00m\u001b[38;5;124m--TRJCONV completed successfully!\u001b[39m\u001b[38;5;124m\"\u001b[39m)\n",
      "\u001b[0;31mTypeError\u001b[0m: run_command() missing 1 required positional argument: 'input_data'"
     ]
    }
   ],
   "source": [
    "startingFrameGMXPBSA = \"2000\"\n",
    "remove_pbc(trj_file, tpr_file, startingFrameGMXPBSA, root_name, conf_name)"
   ]
  },
  {
   "cell_type": "code",
   "execution_count": 61,
   "id": "767d334b-85d8-4362-8f92-a7d0a0a3b1f3",
   "metadata": {},
   "outputs": [],
   "source": [
    "def make_index(conf_name, root_name, receptor_frag, ab_chains):\n",
    "    \"\"\"生成索引文件\"\"\"\n",
    "    print(\"\\t\\t--running MAKE_NDX to make index with only receptor, ligand and complex..\")\n",
    "        \n",
    "    make_ndx_cmd = [\n",
    "        \"gmx\", \"make_ndx\", \"-f\", f\"{conf_name}_starting_protein.pdb\",\n",
    "        \"-o\", f\"{root_name}/index.ndx\"\n",
    "    ]\n",
    "    #ndx_string = f\"{receptor_frag}\\n{ab_chains}\\nq\\n\"\n",
    "    ndx_string = make_ndx_string_gmxpbsa(receptor_frag, ab_chains)\n",
    "    \n",
    "    run_command(make_ndx_cmd, input_data=ndx_string)\n",
    "    print(\"\\t\\t--MAKE_NDX completed successfully!\")"
   ]
  },
  {
   "cell_type": "code",
   "execution_count": 65,
   "id": "46c76e29-8956-4104-afd5-40c506cd6def",
   "metadata": {},
   "outputs": [],
   "source": [
    "receptor_frag = \"2\"\n",
    "ab_chains = \"2\"\n",
    "def make_ndx_string_gmxpbsa(receptor_frag, ab_chains):\n",
    "    \"\"\"\n",
    "    Generate the make_ndx string for GROMACS PBSA analysis.\n",
    "    \n",
    "    receptor_frag: Number of fragments in the receptor (protein part).\n",
    "    ab_chains: Number of antibody chains (ligand part).\n",
    "    return: A formatted make_ndx string for GROMACS.\n",
    "    \"\"\"\n",
    "    # Initialize the make_ndx string with the initial commands:\n",
    "    # 1. `keep 1`: Keep the first group (usually the whole structure).\n",
    "    # 2. `splitch 0`: Split chains in the structure (0 is the default group for all atoms).\n",
    "    make_ndx_string = \"keep 1\\nsplitch 0\\n\"\n",
    "    \n",
    "    # Handle receptor fragments\n",
    "    if int(receptor_frag) > 1:\n",
    "        # If there are multiple fragments in the receptor, create a group by combining them.\n",
    "        # Start with the first fragment.\n",
    "        flag = \"1\"\n",
    "        # Delete the initial combined group after creating a new group for each fragment.\n",
    "        flag2 = \"del 1\\n\"\n",
    "        \n",
    "        # Loop through the receptor fragments, starting from the second fragment.\n",
    "        for i in range(2, int(receptor_frag) + 1):\n",
    "            # Combine fragments using the `|` operator in GROMACS make_ndx syntax.\n",
    "            flag += f\"|{i}\"\n",
    "            # Add a deletion command for each fragment.\n",
    "            flag2 += \"del 1\\n\"\n",
    "        \n",
    "        # Append the constructed commands to the make_ndx string.\n",
    "        make_ndx_string += f\"{flag}\\n{flag2}\"\n",
    "    else:\n",
    "        # If there's only one receptor fragment, directly select the combined group 0 and 1.\n",
    "        make_ndx_string += \"0&1\\ndel 1\\n\"\n",
    "    \n",
    "    # Handle antibody chains\n",
    "    if int(ab_chains) > 1:\n",
    "        # If there are multiple antibody chains, create a group by combining them.\n",
    "        flag = \"1\"\n",
    "        # Delete the initial group for antibodies after creating new groups for each chain.\n",
    "        flag2 = \"del 1\\n\"\n",
    "        \n",
    "        # Loop through the antibody chains, starting from the second chain.\n",
    "        for i in range(2, int(ab_chains) + 1):\n",
    "            # Combine chains using the `|` operator.\n",
    "            flag += f\"|{i}\"\n",
    "            # Add a deletion command for each chain.\n",
    "            flag2 += \"del 1\\n\"\n",
    "        \n",
    "        # Append the constructed commands to the make_ndx string.\n",
    "        # Finally, create a combined group for receptor and antibody chains.\n",
    "        make_ndx_string += f\"{flag}\\n{flag2}del 0\\n0|1\\n\"\n",
    "    else:\n",
    "        # If there's only one antibody chain, directly select and combine group 0 and 1.\n",
    "        make_ndx_string += \"0&1\\ndel 0\\ndel 0\\n0|1\\n\"\n",
    "    \n",
    "    # Add naming commands to label the created groups:\n",
    "    # `name 0 receptor`: Name group 0 as \"receptor\".\n",
    "    # `name 1 ligand`: Name group 1 as \"ligand\".\n",
    "    # `name 2 complex`: Name the combined group as \"complex\".\n",
    "    # The final `q` command exits the make_ndx tool.\n",
    "    make_ndx_string += \"name 0 receptor\\nname 1 ligand\\nname 2 complex\\n\\nq\\n\"\n",
    "    \n",
    "    # Return the complete make_ndx string.\n",
    "    return make_ndx_string"
   ]
  },
  {
   "cell_type": "code",
   "execution_count": 67,
   "id": "d8e8fbc0-876e-42ed-b35f-6beb8c5990dd",
   "metadata": {},
   "outputs": [
    {
     "name": "stdout",
     "output_type": "stream",
     "text": [
      "\t\t--running MAKE_NDX to make index with only receptor, ligand and complex..\n",
      "\t\t--MAKE_NDX completed successfully!\n"
     ]
    }
   ],
   "source": [
    "make_index(conf_name, root_name, receptor_frag, ab_chains)"
   ]
  },
  {
   "cell_type": "code",
   "execution_count": 68,
   "id": "de63a915-63f4-407a-af5f-ab52482e287c",
   "metadata": {},
   "outputs": [],
   "source": [
    "def create_protein_top(top_file):\n",
    "    \"\"\"创建仅包含蛋白质的拓扑文件\"\"\"\n",
    "    print(\"\\t\\t--Creating a protein-only topology file...\")\n",
    "    excluded_keywords = [\"SOL\", \"K\", \"CL\"]  # 要删除的关键词\n",
    "\n",
    "    with open(f\"{top_file}.top\", \"r\") as infile:\n",
    "        lines = infile.readlines()\n",
    "\n",
    "    with open(f\"{top_file}_protein.top\", \"w\") as outfile:\n",
    "        for line in lines:\n",
    "            # 检查行中是否包含任何要排除的关键词\n",
    "            if not any(keyword in line for keyword in excluded_keywords):\n",
    "                outfile.write(line)\n",
    "\n",
    "    print(\"\\t\\t--Protein topology file created successfully!\")"
   ]
  },
  {
   "cell_type": "code",
   "execution_count": 69,
   "id": "cc1f4f9b-8bdf-4569-9bd1-0ef273c40e75",
   "metadata": {},
   "outputs": [
    {
     "name": "stdout",
     "output_type": "stream",
     "text": [
      "\t\t--using HEAD to make a only-protein top..\n",
      "\t\t--Protein topology file created successfully!\n"
     ]
    }
   ],
   "source": [
    "create_protein_top(top_file)"
   ]
  },
  {
   "cell_type": "code",
   "execution_count": 70,
   "id": "67f37b6b-a624-47de-bb5e-cc75f970003c",
   "metadata": {},
   "outputs": [],
   "source": [
    "def run_grompp(mdp_name, conf_name, top_file, root_name):\n",
    "    \"\"\"运行 GROMPP 生成 tpr 文件\"\"\"\n",
    "    print(\"\\t\\t--running GROMPP to make a protein tpr..\")\n",
    "    \n",
    "    # 第一次 GROMPP\n",
    "    cmd1 = [\n",
    "        \"gmx\", \"grompp\", \"-v\", \"-f\", mdp_name, \"-c\", f\"{conf_name}_starting_protein.pdb\",\n",
    "        \"-p\", f\"{top_file}_protein.top\", \"-o\", f\"{root_name}/{conf_name}.tpr\", \"-maxwarn\", \"1\"\n",
    "    ]\n",
    "    run_command(cmd1, input_data = None)\n",
    "    \n",
    "    # 第二次 GROMPP\n",
    "    cmd2 = [\n",
    "        \"gmx\", \"grompp\", \"-v\", \"-f\", mdp_name, \"-c\", f\"{conf_name}_starting_protein.pdb\",\n",
    "        \"-p\", f\"{top_file}_protein.top\", \"-o\", f\"{root_name}/{conf_name}_newGRO.tpr\", \"-maxwarn\", \"1\"\n",
    "    ]\n",
    "    run_command(cmd2, input_data = None)\n",
    "    print(\"\\t\\t--GROMPP completed successfully!\")"
   ]
  },
  {
   "cell_type": "code",
   "execution_count": 72,
   "id": "ad1de8bd-8afb-4d3e-b24a-33c3b49974e9",
   "metadata": {},
   "outputs": [
    {
     "name": "stdout",
     "output_type": "stream",
     "text": [
      "\t\t--running GROMPP to make a protein tpr..\n",
      "\t\t--GROMPP completed successfully!\n"
     ]
    }
   ],
   "source": [
    "run_grompp(mdp_name, conf_name, top_file, root_name)"
   ]
  },
  {
   "cell_type": "code",
   "execution_count": 75,
   "id": "53bb50de-7bd2-4294-bb64-e55f44667027",
   "metadata": {},
   "outputs": [],
   "source": [
    "def count_his_residues(pdb_file):\n",
    "    \"\"\"计算 HIS 残基数量并生成字符串\"\"\"\n",
    "    print(\"\\t\\t--Counting HIS residues in the PDB file..\")\n",
    "    his_patterns = [\"HIS CA\", \"HID CA\", \"HIE CA\", \"HIP CA\", \"HSD CA\", \"HSE CA\", \"HSP CA\"]\n",
    "    his_string = \"\"\n",
    "    with open(pdb_file, \"r\") as file:\n",
    "        lines = file.readlines()\n",
    "        for i, line in enumerate(lines):\n",
    "            if any(pattern in line for pattern in his_patterns):\n",
    "                his_string += \"1\\n\"\n",
    "    print(f\"\\t\\t--Found HIS residues: {his_string.count('1')}\")\n",
    "    return his_string"
   ]
  },
  {
   "cell_type": "code",
   "execution_count": 79,
   "id": "9f0f83f2-102d-48a5-b14a-aff5cb4b062c",
   "metadata": {},
   "outputs": [
    {
     "name": "stdout",
     "output_type": "stream",
     "text": [
      "\t\t--Counting HIS residues in the PDB file..\n",
      "\t\t--Found HIS residues: 0\n"
     ]
    }
   ],
   "source": [
    "his_string = count_his_residues(f\"{conf_name}_starting_protein.pdb\")"
   ]
  },
  {
   "cell_type": "code",
   "execution_count": 80,
   "id": "40f2c45c-9cd7-4b8c-a491-2f4cc66122a5",
   "metadata": {},
   "outputs": [
    {
     "data": {
      "text/plain": [
       "''"
      ]
     },
     "execution_count": 80,
     "metadata": {},
     "output_type": "execute_result"
    }
   ],
   "source": [
    "his_string"
   ]
  }
 ],
 "metadata": {
  "kernelspec": {
   "display_name": "Python 3 (ipykernel)",
   "language": "python",
   "name": "python3"
  },
  "language_info": {
   "codemirror_mode": {
    "name": "ipython",
    "version": 3
   },
   "file_extension": ".py",
   "mimetype": "text/x-python",
   "name": "python",
   "nbconvert_exporter": "python",
   "pygments_lexer": "ipython3",
   "version": "3.12.7"
  }
 },
 "nbformat": 4,
 "nbformat_minor": 5
}
