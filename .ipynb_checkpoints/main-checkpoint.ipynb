{
 "cells": [
  {
   "cell_type": "code",
   "execution_count": 21,
   "id": "3dc9541a-1f0b-4715-881a-8b438d01398e",
   "metadata": {},
   "outputs": [],
   "source": [
    "import os\n",
    "import datetime\n",
    "from Bio import PDB\n",
    "import shutil\n",
    "'''\n",
    "from make_top_box import make_top_protein\n",
    "from FillWater_AddIons import fill_water_ions\n",
    "from Energy_Minimization import energy_min\n",
    "from Nvt_Npt import make_new_minim_nvt_npt\n",
    "from SAMD import make_new_minim_config_samd\n",
    "from SAMD import run_md\n",
    "'''\n",
    "from FUNCTION import make_top_protein, fill_water_ions, energy_min, make_new_minim_nvt_npt, make_new_minim_config_samd, run_md\n",
    "\n",
    "#PROJECT_ROOT = os.path.dirname(os.path.abspath(__file__))\n",
    "PROJECT_ROOT = os.getcwd()\n",
    "\n",
    "DATA_DIR = os.path.join(PROJECT_ROOT, \"DATA\")\n",
    "\n",
    "    \n",
    "# pdb file\n",
    "protein_infile = \"HLA_BiAB_protein_50ns\" \n",
    "#protein_infile = \"mtbind\"\n",
    "protein_file_path = os.path.join(DATA_DIR, f\"{protein_infile}.pdb\")\n",
    "\n",
    "# MDP files\n",
    "ions_mdp_file = \"ions\"\n",
    "minim_mdp_file = \"minim\"\n",
    "nvt_mdp_file = \"NVT\"\n",
    "npt_mdp_file = \"NPT\"\n",
    "samd_mdp_file = \"SAMD\"\n",
    "md_mdp_file = \"EngComp_ff14sb_custom\"\n",
    "\n",
    "ions_mdp_path = os.path.join(DATA_DIR, f\"{ions_mdp_file}.mdp\")\n",
    "minim_mdp_path = os.path.join(DATA_DIR, f\"{minim_mdp_file}.mdp\")\n",
    "nvt_mdp_path = os.path.join(DATA_DIR, f\"{nvt_mdp_file}.mdp\")\n",
    "npt_mdp_path = os.path.join(DATA_DIR, f\"{npt_mdp_file}.mdp\")\n",
    "samd_mdp_path = os.path.join(DATA_DIR, f\"{samd_mdp_file}.mdp\")\n",
    "md_mdp_path = os.path.join(DATA_DIR, f\"{md_mdp_file}.mdp\")\n",
    "\n",
    "def create_output_directory():\n",
    "    \n",
    "    current_dir = os.getcwd()\n",
    "    \n",
    "    timestamp = datetime.datetime.now().strftime('%Y%m%d_%H%M%S')\n",
    "    output_dir_name = f\"output_{timestamp}\"\n",
    "    output_dir_path = os.path.join(current_dir, output_dir_name)\n",
    "    \n",
    "    os.mkdir(output_dir_path)\n",
    "    print(f\"Created directory: {output_dir_path}\")\n",
    "\n",
    "    os.chdir(output_dir_path)\n",
    "\n",
    "    \n",
    "    \n",
    "    return output_dir_path"
   ]
  },
  {
   "cell_type": "code",
   "execution_count": 2,
   "id": "628ef8cd-f458-4657-bab0-4a1573756882",
   "metadata": {},
   "outputs": [
    {
     "data": {
      "text/plain": [
       "'/home/bio/Desktop/jupyter_test/antibody_test/DATA/ions.mdp'"
      ]
     },
     "execution_count": 2,
     "metadata": {},
     "output_type": "execute_result"
    }
   ],
   "source": [
    "ions_mdp_path "
   ]
  },
  {
   "cell_type": "code",
   "execution_count": 3,
   "id": "960d49ad-6921-4111-9d60-cb642903ac6b",
   "metadata": {},
   "outputs": [
    {
     "name": "stdout",
     "output_type": "stream",
     "text": [
      "Created directory: /home/bio/Desktop/jupyter_test/antibody_test/output_20241121_112819\n"
     ]
    }
   ],
   "source": [
    "ROOT_OUTPUT = create_output_directory()"
   ]
  },
  {
   "cell_type": "code",
   "execution_count": null,
   "id": "05b83679-f435-4e6d-a388-66373655bb39",
   "metadata": {},
   "outputs": [],
   "source": [
    "# create configuration folder\n",
    "configuration_path = os.path.join(os.getcwd(),\"configuration\")\n",
    "os.mkdir(configuration_path)\n",
    "print(f\"Create directory: {configuration_path}\")\n",
    "os.chdir(configuration_path)"
   ]
  },
  {
   "cell_type": "code",
   "execution_count": null,
   "id": "18b994b7-fa46-4db7-938f-747f1c4561dd",
   "metadata": {},
   "outputs": [],
   "source": [
    "# build folders\n",
    "# running_num, MAKE IT 1 NOW, NEED TO CHANGE\n",
    "#import pandas as pd\n",
    "def build_folders(current_dir, running_num = 1):\n",
    "    # Create folder for each cycle\n",
    "    for cycle_n in range (1,running_num + 1):\n",
    "        os.makedirs(f\"cycle{cycle_n}_MD\", exist_ok = True)\n",
    "\n",
    "    repository = os.path.join(current_dir,\"REPOSITORY\")\n",
    "    results = os.path.join(current_dir,\"RESULTS\")\n",
    "    #  REMOVED_FILES_FOLDER AND TEMP_FILES_FOLDER\n",
    "    os.makedirs(repository, exist_ok = True)\n",
    "    os.makedirs(results, exist_ok = True)\n",
    "    '''\n",
    "    header = [\n",
    "    \"#RUNnumber\", \"DeltaG(kJ/mol)\", \"Coul(kJ/mol)\", \"vdW(kJ/mol)\",\n",
    "    \"PolSol(kJ/mol)\", \"NpoSol(kJ/mol)\", \"ScoreFunct\", \"ScoreFunct2\",\n",
    "    \"Canonica_AVG\", \"MedianDG\", \"DeltaG_2s\", \"dG_PotEn\"]\n",
    "\n",
    "    df = pd.DataFrame(columns=header)\n",
    "    results_file_path = os.path.join(results_folder, \"MoleculesResults.dat\")\n",
    "    df.to_csv(results_file_path, sep='\\t', index=False, header=True)\n",
    "    '''\n",
    "    # Write header to MoleculesResults.dat\n",
    "    header = (\n",
    "        f\"{'#RUNnumber':<10}\\t{'DeltaG(kJ/mol)':>13}\\t{'Coul(kJ/mol)':>13}\\t{'vdW(kJ/mol)':>13}\\t\"\n",
    "        f\"{'PolSol(kJ/mol)':>13}\\t{'NpoSol(kJ/mol)':>13}\\t{'ScoreFunct':>13}\\t{'ScoreFunct2':>13}\\t\"\n",
    "        f\"{'Canonica_AVG':>13}\\t{'MedianDG':>13}\\t{'DeltaG_2s':>13}\\t{'dG_PotEn':>13}\\n\"\n",
    "    )\n",
    "    results_file_path = os.path.join(results, \"MoleculesResults.dat\")\n",
    "    with open(results_file_path, \"w\") as results_file:\n",
    "        results_file.write(header)"
   ]
  },
  {
   "cell_type": "code",
   "execution_count": null,
   "id": "ec6af1df-c230-43bd-a571-a53fe8f11ad8",
   "metadata": {},
   "outputs": [],
   "source": [
    "current_dir = os.getcwd()\n",
    "build_folders(current_dir)"
   ]
  },
  {
   "cell_type": "code",
   "execution_count": null,
   "id": "198aaade-4e7b-40f4-b59b-c97688dd0774",
   "metadata": {},
   "outputs": [],
   "source": [
    "# generating a topology and build box\n",
    "make_top_protein(protein_file_path, \"amber99sb-ildn\", \"tip3p\", \"system\", \"topol\")"
   ]
  },
  {
   "cell_type": "code",
   "execution_count": 6,
   "id": "1a31f5c7-dbea-42c9-a429-c5a0e9668058",
   "metadata": {},
   "outputs": [],
   "source": [
    "# cp system.pdb {protein_infile}.pdb in current folder\n",
    "source = os.path.join(current_dir, \"system.pdb\")\n",
    "destination = os.path.join(current_dir, f\"{protein_infile }.pdb\")\n",
    "try:\n",
    "    shutil.copy(source,destination)\n",
    "except Exception:\n",
    "    print(\"Copy system.pdb failed.\")"
   ]
  },
  {
   "cell_type": "code",
   "execution_count": 7,
   "id": "94ec6d94-4f2a-47dd-9e03-6f698dfb038f",
   "metadata": {},
   "outputs": [],
   "source": [
    "## OC2 DOESN'T NORMAL ONE, NEED TO CHANGE\n",
    "def add_ter_to_pdb(pdb_file_name):\n",
    "    \n",
    "    temp_file_name = f\"{pdb_file_name}_temp\"  \n",
    "    with open(pdb_file_name, 'r') as f:\n",
    "        lines = f.readlines()\n",
    "\n",
    "    new_lines = []  \n",
    "    for i, line in enumerate(lines):\n",
    "        new_lines.append(line)\n",
    "        if \"OC2\" in line:\n",
    "            if i + 1 >= len(lines) or not lines[i + 1].startswith(\"TER\"):\n",
    "                new_lines.append(\"TER\\n\")\n",
    "\n",
    "    with open(temp_file_name, 'w') as f:\n",
    "        f.writelines(new_lines)\n",
    "\n",
    "    os.rename(temp_file_name, pdb_file_name)"
   ]
  },
  {
   "cell_type": "code",
   "execution_count": 8,
   "id": "611040e8-e0d1-4fe2-95b4-ec39140e62bd",
   "metadata": {},
   "outputs": [],
   "source": [
    "add_ter_to_pdb(f\"{protein_infile }.pdb\")"
   ]
  },
  {
   "cell_type": "code",
   "execution_count": 9,
   "id": "900035a0-9225-4f68-9639-7623d3c4cb3f",
   "metadata": {},
   "outputs": [],
   "source": [
    "def replace_his_(input_pdb, output_pdb):\n",
    "    # input_pdb: the pdb in configuration/mutant x\n",
    "    # output_pdb: make it in ROOT_OUTPUT folder\n",
    "    with open(input_pdb, 'r') as infile:\n",
    "        data = infile.read()\n",
    "    data = data.replace(\"HISD\", \"HIS\").replace(\"HISE\", \"HIS\").replace(\"HISP\", \"HIS\")\n",
    "\n",
    "    with open(output_pdb, 'w') as outfile:\n",
    "        outfile.write(data)"
   ]
  },
  {
   "cell_type": "code",
   "execution_count": 10,
   "id": "695a0398-4aac-472e-8d1a-e99971d69394",
   "metadata": {},
   "outputs": [],
   "source": [
    "output_pdb = os.path.join(ROOT_OUTPUT, f\"{protein_infile }.pdb\")\n",
    "replace_his_(f\"{protein_infile }.pdb\",output_pdb)"
   ]
  },
  {
   "cell_type": "code",
   "execution_count": 4,
   "id": "f33bf63c-bd38-4189-ad65-bbb28ab5d86c",
   "metadata": {},
   "outputs": [
    {
     "name": "stdout",
     "output_type": "stream",
     "text": [
      "Water and ions successfully added to the system!\n",
      "Energy minimization completed successfully!\n"
     ]
    }
   ],
   "source": [
    "# Adding water and ions\n",
    "fill_water_ions(\"system\", \"topol\", ions_mdp_path)\n",
    "# Energy Minimiization\n",
    "energy_min(minim_mdp_path, \"system_ions\", \"topol\", \"system_compl\")"
   ]
  },
  {
   "cell_type": "code",
   "execution_count": 5,
   "id": "bad29d1f-1033-44c5-96c0-b87a41cd6305",
   "metadata": {},
   "outputs": [
    {
     "name": "stdout",
     "output_type": "stream",
     "text": [
      "10:50:23 -- Running NVT MD for temperature equilibration...\n",
      "10:50:40 -- Running NPT MD for pressure equilibration...\n",
      "\n",
      "Statistics over 50001 steps [ 0.0000 through 50.0000 ps ], 1 data sets\n",
      "All statistics are over 501 points\n",
      "\n",
      "Energy                      Average   Err.Est.       RMSD  Tot-Drift\n",
      "-------------------------------------------------------------------------------\n",
      "Temperature                 292.566        6.7    19.9452    36.8471  (K)\n",
      "\n",
      "Statistics over 50001 steps [ 0.0000 through 100.0000 ps ], 2 data sets\n",
      "All statistics are over 501 points\n",
      "\n",
      "Energy                      Average   Err.Est.       RMSD  Tot-Drift\n",
      "-------------------------------------------------------------------------------\n",
      "Pressure                  -0.815063         --    92.6755    2.15366  (bar)\n",
      "Density                     997.304         --    1.14398   0.717414  (kg/m^3)\n",
      "Equilibration completed successfully!\n"
     ]
    },
    {
     "name": "stderr",
     "output_type": "stream",
     "text": [
      "                      :-) GROMACS - gmx energy, 2024.4 (-:\n",
      "\n",
      "Executable:   /opt/gromacs-2024.4/bin/gmx\n",
      "Data prefix:  /opt/gromacs-2024.4\n",
      "Working dir:  /home/bio/Desktop/jupyter_test/antibody_test/output_files_20241120_105005\n",
      "Command line:\n",
      "  gmx energy -f NVT.edr -o temp_NVT.xvg\n",
      "\n",
      "Opened NVT.edr as single precision energy file\n",
      "\n",
      "Select the terms you want from the following list by\n",
      "selecting either (part of) the name or the number or a combination.\n",
      "End your selection with an empty line or a zero.\n",
      "-------------------------------------------------------------------\n",
      "  1  Bond             2  Angle            3  Proper-Dih.      4  Per.-Imp.-Dih.\n",
      "  5  LJ-14            6  Coulomb-14       7  LJ-(SR)          8  Disper.-corr. \n",
      "  9  Coulomb-(SR)    10  Coul.-recip.    11  Position-Rest.  12  Potential     \n",
      " 13  Kinetic-En.     14  Total-Energy    15  Conserved-En.   16  Temperature   \n",
      " 17  Pres.-DC        18  Pressure        19  Constr.-rmsd    20  Vir-XX        \n",
      " 21  Vir-XY          22  Vir-XZ          23  Vir-YX          24  Vir-YY        \n",
      " 25  Vir-YZ          26  Vir-ZX          27  Vir-ZY          28  Vir-ZZ        \n",
      " 29  Pres-XX         30  Pres-XY         31  Pres-XZ         32  Pres-YX       \n",
      " 33  Pres-YY         34  Pres-YZ         35  Pres-ZX         36  Pres-ZY       \n",
      " 37  Pres-ZZ         38  #Surf*SurfTen   39  T-Protein       40  T-non-Protein \n",
      " 41  Lamb-Protein                        42  Lamb-non-Protein                  \n",
      "\n",
      "Last energy frame read 10 time   50.000           \n",
      "\n",
      "GROMACS reminds you: \"Nurture Another Mind, Before Yours Expires\" (Arrested Development)\n",
      "\n",
      "                      :-) GROMACS - gmx energy, 2024.4 (-:\n",
      "\n",
      "Executable:   /opt/gromacs-2024.4/bin/gmx\n",
      "Data prefix:  /opt/gromacs-2024.4\n",
      "Working dir:  /home/bio/Desktop/jupyter_test/antibody_test/output_files_20241120_105005\n",
      "Command line:\n",
      "  gmx energy -f NPT.edr -o press_NPT.xvg\n",
      "\n",
      "Opened NPT.edr as single precision energy file\n",
      "\n",
      "Select the terms you want from the following list by\n",
      "selecting either (part of) the name or the number or a combination.\n",
      "End your selection with an empty line or a zero.\n",
      "-------------------------------------------------------------------\n",
      "  1  Bond             2  Angle            3  Proper-Dih.      4  Per.-Imp.-Dih.\n",
      "  5  LJ-14            6  Coulomb-14       7  LJ-(SR)          8  Disper.-corr. \n",
      "  9  Coulomb-(SR)    10  Coul.-recip.    11  Position-Rest.  12  Potential     \n",
      " 13  Kinetic-En.     14  Total-Energy    15  Conserved-En.   16  Temperature   \n",
      " 17  Pres.-DC        18  Pressure        19  Constr.-rmsd    20  Box-X         \n",
      " 21  Box-Y           22  Box-Z           23  Volume          24  Density       \n",
      " 25  pV              26  Enthalpy        27  Vir-XX          28  Vir-XY        \n",
      " 29  Vir-XZ          30  Vir-YX          31  Vir-YY          32  Vir-YZ        \n",
      " 33  Vir-ZX          34  Vir-ZY          35  Vir-ZZ          36  Pres-XX       \n",
      " 37  Pres-XY         38  Pres-XZ         39  Pres-YX         40  Pres-YY       \n",
      " 41  Pres-YZ         42  Pres-ZX         43  Pres-ZY         44  Pres-ZZ       \n",
      " 45  #Surf*SurfTen   46  T-Protein       47  T-non-Protein   48  Lamb-Protein  \n",
      " 49  Lamb-non-Protein                  \n",
      "\n",
      "Last energy frame read 7 time  100.000            \n",
      "\n",
      "GROMACS reminds you: \"Nurture Another Mind, Before Yours Expires\" (Arrested Development)\n",
      "\n"
     ]
    }
   ],
   "source": [
    "# Nvt and Npt\n",
    "sequence = 0\n",
    "make_new_minim_nvt_npt(\"system_compl_minim.gro\", nvt_mdp_path, npt_mdp_path, \"system_equil\", 0)"
   ]
  },
  {
   "cell_type": "code",
   "execution_count": 6,
   "id": "8693869f-6e53-464e-9eb8-5df34f4b205c",
   "metadata": {},
   "outputs": [
    {
     "name": "stdout",
     "output_type": "stream",
     "text": [
      "10:51:05 -- Running SAMD \n",
      "\n",
      "Statistics over 175001 steps [ 0.0000 through 350.0000 ps ], 3 data sets\n",
      "All statistics are over 1751 points\n",
      "\n",
      "Energy                      Average   Err.Est.       RMSD  Tot-Drift\n",
      "-------------------------------------------------------------------------------\n",
      "Temperature                 339.975         13    27.1556   -51.3274  (K)\n",
      "Pressure                   0.767081         11    96.9323   -45.5102  (bar)\n",
      "Density                     969.996         13    28.4937     48.582  (kg/m^3)\n",
      "Selected 1: 'Protein'\n",
      "Selected 1: 'Protein'\n",
      "SAMD completed successfully!\n"
     ]
    },
    {
     "name": "stderr",
     "output_type": "stream",
     "text": [
      "                      :-) GROMACS - gmx energy, 2024.4 (-:\n",
      "\n",
      "Executable:   /opt/gromacs-2024.4/bin/gmx\n",
      "Data prefix:  /opt/gromacs-2024.4\n",
      "Working dir:  /home/bio/Desktop/jupyter_test/antibody_test/output_files_20241120_105005\n",
      "Command line:\n",
      "  gmx energy -f SAMD.edr -o press_SAMD.xvg\n",
      "\n",
      "Opened SAMD.edr as single precision energy file\n",
      "\n",
      "Select the terms you want from the following list by\n",
      "selecting either (part of) the name or the number or a combination.\n",
      "End your selection with an empty line or a zero.\n",
      "-------------------------------------------------------------------\n",
      "  1  Bond             2  Angle            3  Proper-Dih.      4  Per.-Imp.-Dih.\n",
      "  5  LJ-14            6  Coulomb-14       7  LJ-(SR)          8  Disper.-corr. \n",
      "  9  Coulomb-(SR)    10  Coul.-recip.    11  Potential       12  Kinetic-En.   \n",
      " 13  Total-Energy    14  Conserved-En.   15  Temperature     16  Pres.-DC      \n",
      " 17  Pressure        18  Constr.-rmsd    19  Box-X           20  Box-Y         \n",
      " 21  Box-Z           22  Volume          23  Density         24  pV            \n",
      " 25  Enthalpy        26  Vir-XX          27  Vir-XY          28  Vir-XZ        \n",
      " 29  Vir-YX          30  Vir-YY          31  Vir-YZ          32  Vir-ZX        \n",
      " 33  Vir-ZY          34  Vir-ZZ          35  Pres-XX         36  Pres-XY       \n",
      " 37  Pres-XZ         38  Pres-YX         39  Pres-YY         40  Pres-YZ       \n",
      " 41  Pres-ZX         42  Pres-ZY         43  Pres-ZZ         44  #Surf*SurfTen \n",
      " 45  T-Protein                           46  T-non-Protein                     \n",
      " 47  Lamb-Protein                        48  Lamb-non-Protein                  \n",
      "\n",
      "Last energy frame read 50 time  350.000           \n",
      "\n",
      "GROMACS reminds you: \"I couldn't claim that I was smarter than sixty-five other guys - but the average of sixty-five other guys, certainly!\" (Richard Feynman)\n",
      "\n",
      "                       :-) GROMACS - gmx rms, 2024.4 (-:\n",
      "\n",
      "Executable:   /opt/gromacs-2024.4/bin/gmx\n",
      "Data prefix:  /opt/gromacs-2024.4\n",
      "Working dir:  /home/bio/Desktop/jupyter_test/antibody_test/output_files_20241120_105005\n",
      "Command line:\n",
      "  gmx rms -s system_SAMD.tpr -f traj_SAMD.xtc -o rmsd_SAMD0.xvg -tu ps\n",
      "\n",
      "Reading file system_SAMD.tpr, VERSION 2024.4 (single precision)\n",
      "Reading file system_SAMD.tpr, VERSION 2024.4 (single precision)\n",
      "Select group for least squares fit\n",
      "Group     0 (         System) has 69569 elements\n",
      "Group     1 (        Protein) has  5036 elements\n",
      "Group     2 (      Protein-H) has  2563 elements\n",
      "Group     3 (        C-alpha) has   338 elements\n",
      "Group     4 (       Backbone) has  1014 elements\n",
      "Group     5 (      MainChain) has  1355 elements\n",
      "Group     6 (   MainChain+Cb) has  1653 elements\n",
      "Group     7 (    MainChain+H) has  1685 elements\n",
      "Group     8 (      SideChain) has  3351 elements\n",
      "Group     9 (    SideChain-H) has  1208 elements\n",
      "Group    10 (    Prot-Masses) has  5036 elements\n",
      "Group    11 (    non-Protein) has 64533 elements\n",
      "Group    12 (          Water) has 64530 elements\n",
      "Group    13 (            SOL) has 64530 elements\n",
      "Group    14 (      non-Water) has  5039 elements\n",
      "Group    15 (            Ion) has     3 elements\n",
      "Group    16 ( Water_and_ions) has 64533 elements\n",
      "Select a group: Select group for RMSD calculation\n",
      "Group     0 (         System) has 69569 elements\n",
      "Group     1 (        Protein) has  5036 elements\n",
      "Group     2 (      Protein-H) has  2563 elements\n",
      "Group     3 (        C-alpha) has   338 elements\n",
      "Group     4 (       Backbone) has  1014 elements\n",
      "Group     5 (      MainChain) has  1355 elements\n",
      "Group     6 (   MainChain+Cb) has  1653 elements\n",
      "Group     7 (    MainChain+H) has  1685 elements\n",
      "Group     8 (      SideChain) has  3351 elements\n",
      "Group     9 (    SideChain-H) has  1208 elements\n",
      "Group    10 (    Prot-Masses) has  5036 elements\n",
      "Group    11 (    non-Protein) has 64533 elements\n",
      "Group    12 (          Water) has 64530 elements\n",
      "Group    13 (            SOL) has 64530 elements\n",
      "Group    14 (      non-Water) has  5039 elements\n",
      "Group    15 (            Ion) has     3 elements\n",
      "Group    16 ( Water_and_ions) has 64533 elements\n",
      "Last frame         50 time  350.000   \n",
      "\n",
      "GROMACS reminds you: \"I Don't Like Dirt\" (The Breeders)\n",
      "\n"
     ]
    }
   ],
   "source": [
    "make_new_minim_config_samd(\"system_equil.gro\", samd_mdp_path, \"system_Compl_MDstart\", 0)"
   ]
  },
  {
   "cell_type": "code",
   "execution_count": 7,
   "id": "1b698472-1335-417e-bb75-f5120b14d2a0",
   "metadata": {},
   "outputs": [
    {
     "name": "stdout",
     "output_type": "stream",
     "text": [
      "10:52:03 -- Running MD \n"
     ]
    },
    {
     "name": "stderr",
     "output_type": "stream",
     "text": [
      "                      :-) GROMACS - gmx energy, 2024.4 (-:\n",
      "\n",
      "Executable:   /opt/gromacs-2024.4/bin/gmx\n",
      "Data prefix:  /opt/gromacs-2024.4\n",
      "Working dir:  /home/bio/Desktop/jupyter_test/antibody_test/output_files_20241120_105005\n",
      "Command line:\n",
      "  gmx energy -f PROD.edr -o PROD0.xvg\n",
      "\n",
      "Opened PROD.edr as single precision energy file\n",
      "\n",
      "Select the terms you want from the following list by\n",
      "selecting either (part of) the name or the number or a combination.\n",
      "End your selection with an empty line or a zero.\n",
      "-------------------------------------------------------------------\n",
      "  1  Bond             2  Angle            3  Proper-Dih.      4  Per.-Imp.-Dih.\n",
      "  5  LJ-14            6  Coulomb-14       7  LJ-(SR)          8  Disper.-corr. \n",
      "  9  Coulomb-(SR)    10  Coul.-recip.    11  Potential       12  Kinetic-En.   \n",
      " 13  Total-Energy    14  Conserved-En.   15  Temperature     16  Pres.-DC      \n",
      " 17  Pressure        18  Constr.-rmsd    19  Box-X           20  Box-Y         \n",
      " 21  Box-Z           22  Volume          23  Density         24  pV            \n",
      " 25  Enthalpy        26  Vir-XX          27  Vir-XY          28  Vir-XZ        \n",
      " 29  Vir-YX          30  Vir-YY          31  Vir-YZ          32  Vir-ZX        \n",
      " 33  Vir-ZY          34  Vir-ZZ          35  Pres-XX         36  Pres-XY       \n",
      " 37  Pres-XZ         38  Pres-YX         39  Pres-YY         40  Pres-YZ       \n",
      " 41  Pres-ZX         42  Pres-ZY         43  Pres-ZZ         44  #Surf*SurfTen \n",
      " 45  T-Protein                           46  T-non-Protein                     \n",
      " 47  Lamb-Protein                        48  Lamb-non-Protein                  \n",
      "\n",
      "Last energy frame read 250 time 5000.000          \n",
      "\n",
      "GROMACS reminds you: \"A real scientist solves problems, not wails that they are unsolvable.\" (Anne McCaffrey)\n",
      "\n",
      "                       :-) GROMACS - gmx rms, 2024.4 (-:\n",
      "\n",
      "Executable:   /opt/gromacs-2024.4/bin/gmx\n",
      "Data prefix:  /opt/gromacs-2024.4\n",
      "Working dir:  /home/bio/Desktop/jupyter_test/antibody_test/output_files_20241120_105005\n",
      "Command line:\n",
      "  gmx rms -s system_Compl_MD.tpr -f traj_MD.xtc -o rmsd_PROD0.xvg -a avgPROD0.xvg -tu ps\n",
      "\n",
      "Reading file system_Compl_MD.tpr, VERSION 2024.4 (single precision)\n",
      "Reading file system_Compl_MD.tpr, VERSION 2024.4 (single precision)\n",
      "Select group for least squares fit\n",
      "Group     0 (         System) has 69569 elements\n",
      "Group     1 (        Protein) has  5036 elements\n",
      "Group     2 (      Protein-H) has  2563 elements\n",
      "Group     3 (        C-alpha) has   338 elements\n",
      "Group     4 (       Backbone) has  1014 elements\n",
      "Group     5 (      MainChain) has  1355 elements\n",
      "Group     6 (   MainChain+Cb) has  1653 elements\n",
      "Group     7 (    MainChain+H) has  1685 elements\n",
      "Group     8 (      SideChain) has  3351 elements\n",
      "Group     9 (    SideChain-H) has  1208 elements\n",
      "Group    10 (    Prot-Masses) has  5036 elements\n",
      "Group    11 (    non-Protein) has 64533 elements\n",
      "Group    12 (          Water) has 64530 elements\n",
      "Group    13 (            SOL) has 64530 elements\n",
      "Group    14 (      non-Water) has  5039 elements\n",
      "Group    15 (            Ion) has     3 elements\n",
      "Group    16 ( Water_and_ions) has 64533 elements\n",
      "Select a group: Select group for RMSD calculation\n",
      "Group     0 (         System) has 69569 elements\n",
      "Group     1 (        Protein) has  5036 elements\n",
      "Group     2 (      Protein-H) has  2563 elements\n",
      "Group     3 (        C-alpha) has   338 elements\n",
      "Group     4 (       Backbone) has  1014 elements\n",
      "Group     5 (      MainChain) has  1355 elements\n",
      "Group     6 (   MainChain+Cb) has  1653 elements\n",
      "Group     7 (    MainChain+H) has  1685 elements\n",
      "Group     8 (      SideChain) has  3351 elements\n",
      "Group     9 (    SideChain-H) has  1208 elements\n",
      "Group    10 (    Prot-Masses) has  5036 elements\n",
      "Group    11 (    non-Protein) has 64533 elements\n",
      "Group    12 (          Water) has 64530 elements\n",
      "Group    13 (            SOL) has 64530 elements\n",
      "Group    14 (      non-Water) has  5039 elements\n",
      "Group    15 (            Ion) has     3 elements\n",
      "Group    16 ( Water_and_ions) has 64533 elements\n",
      "Reading frame      60 time 1200.000   "
     ]
    },
    {
     "name": "stdout",
     "output_type": "stream",
     "text": [
      "\n",
      "Statistics over 2500001 steps [ 0.0000 through 5000.0000 ps ], 3 data sets\n",
      "All statistics are over 25001 points\n",
      "\n",
      "Energy                      Average   Err.Est.       RMSD  Tot-Drift\n",
      "-------------------------------------------------------------------------------\n",
      "Temperature                 309.943      0.019    1.26585  0.0500456  (K)\n",
      "Pressure                   0.366258        1.1    100.212   -5.89286  (bar)\n",
      "Density                     1000.82      0.096    2.16568   -0.51128  (kg/m^3)\n"
     ]
    },
    {
     "name": "stderr",
     "output_type": "stream",
     "text": [
      "Reading frame     190 time 3800.000   "
     ]
    },
    {
     "name": "stdout",
     "output_type": "stream",
     "text": [
      "Selected 1: 'Protein'\n",
      "Selected 1: 'Protein'\n"
     ]
    },
    {
     "name": "stderr",
     "output_type": "stream",
     "text": [
      "Reading frame     200 time 4000.000   \n",
      "\n",
      "GROMACS reminds you: \"A real scientist solves problems, not wails that they are unsolvable.\" (Anne McCaffrey)\n",
      "\n"
     ]
    }
   ],
   "source": [
    "run_md(md_mdp_path,\"system_Compl_MD\", \"traj_MD\", 0, 1)"
   ]
  },
  {
   "cell_type": "code",
   "execution_count": 8,
   "id": "1c204fc5-824c-46e3-8085-c6a023cf6c0e",
   "metadata": {},
   "outputs": [
    {
     "name": "stdout",
     "output_type": "stream",
     "text": [
      "                     :-) GROMACS - gmx make_ndx, 2024.4 (-:\n",
      "\n",
      "Executable:   /opt/gromacs-2024.4/bin/gmx\n",
      "Data prefix:  /opt/gromacs-2024.4\n",
      "Working dir:  /home/bio/Desktop/jupyter_test/antibody_test/output_files_20241120_105005\n",
      "Command line:\n",
      "  gmx make_ndx -f system_Compl_MD.gro -o index.ndx\n",
      "\n",
      "\n",
      "Reading structure file\n",
      "Going to read 0 old index file(s)\n",
      "Analysing residue names:\n",
      "There are:   338    Protein residues\n",
      "There are: 21510      Water residues\n",
      "There are:     3        Ion residues\n",
      "Analysing Protein...\n",
      "\n",
      "  0 System              : 69569 atoms\n",
      "  1 Protein             :  5036 atoms\n",
      "  2 Protein-H           :  2563 atoms\n",
      "  3 C-alpha             :   338 atoms\n",
      "  4 Backbone            :  1014 atoms\n",
      "  5 MainChain           :  1355 atoms\n",
      "  6 MainChain+Cb        :  1653 atoms\n",
      "  7 MainChain+H         :  1685 atoms\n",
      "  8 SideChain           :  3351 atoms\n",
      "  9 SideChain-H         :  1208 atoms\n",
      " 10 Prot-Masses         :  5036 atoms\n",
      " 11 non-Protein         : 64533 atoms\n",
      " 12 Water               : 64530 atoms\n",
      " 13 SOL                 : 64530 atoms\n",
      " 14 non-Water           :  5039 atoms\n",
      " 15 Ion                 :     3 atoms\n",
      " 16 Water_and_ions      : 64533 atoms\n",
      "\n",
      " nr : group      '!': not  'name' nr name   'splitch' nr    Enter: list groups\n",
      " 'a': atom       '&': and  'del' nr         'splitres' nr   'l': list residues\n",
      " 't': atom type  '|': or   'keep' nr        'splitat' nr    'h': help\n",
      " 'r': residue              'res' nr         'chain' char\n",
      " \"name\": group             'case': case sensitive           'q': save and quit\n",
      " 'ri': residue index\n",
      "\n",
      "> \n",
      "Removed group 2 'Protein-H'\n",
      "Removed group 3 'C-alpha'\n",
      "Removed group 4 'Backbone'\n",
      "Removed group 5 'MainChain'\n",
      "Removed group 6 'MainChain+Cb'\n",
      "Removed group 7 'MainChain+H'\n",
      "Removed group 8 'SideChain'\n",
      "Removed group 9 'SideChain-H'\n",
      "Removed group 10 'Prot-Masses'\n",
      "Removed group 11 'non-Protein'\n",
      "Removed group 12 'Water'\n",
      "Removed group 13 'SOL'\n",
      "Removed group 14 'non-Water'\n",
      "Removed group 15 'Ion'\n",
      "Removed group 16 'Water_and_ions'\n",
      "Removed group 0 'System'\n",
      "\n",
      "> \n",
      "\n",
      "  0 Protein             :  5036 atoms\n",
      "\n",
      " nr : group      '!': not  'name' nr name   'splitch' nr    Enter: list groups\n",
      " 'a': atom       '&': and  'del' nr         'splitres' nr   'l': list residues\n",
      " 't': atom type  '|': or   'keep' nr        'splitat' nr    'h': help\n",
      " 'r': residue              'res' nr         'chain' char\n",
      " \"name\": group             'case': case sensitive           'q': save and quit\n",
      " 'ri': residue index\n",
      "\n",
      "> \n",
      "\n",
      "GROMACS reminds you: \"User-friendly, adj.: Programmer-hostile.\" (New Hacker's Dictionary)\n",
      "\n"
     ]
    }
   ],
   "source": [
    "!echo -e 'keep 1\\n\\nq\\n' | gmx make_ndx -f system_Compl_MD.gro -o index.ndx"
   ]
  },
  {
   "cell_type": "code",
   "execution_count": null,
   "id": "4de6d47d-0e51-4731-96e2-a95248de2234",
   "metadata": {},
   "outputs": [],
   "source": []
  }
 ],
 "metadata": {
  "kernelspec": {
   "display_name": "Python 3 (ipykernel)",
   "language": "python",
   "name": "python3"
  },
  "language_info": {
   "codemirror_mode": {
    "name": "ipython",
    "version": 3
   },
   "file_extension": ".py",
   "mimetype": "text/x-python",
   "name": "python",
   "nbconvert_exporter": "python",
   "pygments_lexer": "ipython3",
   "version": "3.12.7"
  }
 },
 "nbformat": 4,
 "nbformat_minor": 5
}
