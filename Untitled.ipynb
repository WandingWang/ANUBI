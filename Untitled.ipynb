{
 "cells": [
  {
   "cell_type": "code",
   "execution_count": 2,
   "id": "0e890cf2-4dac-4f68-99e6-8a5b2ad3ec31",
   "metadata": {},
   "outputs": [],
   "source": [
    "    frame = []\n",
    "    avg = []\n",
    "    std = []\n",
    "    with open(\"All_cycle_data.out\", 'r') as infile:\n",
    "    # 逐行解析文件内容\n",
    "        for line in infile:\n",
    "            if line.startswith(\"#frame\"):\n",
    "                frame = line.strip().split()[1:]\n",
    "            elif line.startswith(\"#AVG\"):\n",
    "                avg = line.strip().split()[1:]\n",
    "            elif line.startswith(\"#STD\"):\n",
    "                std = line.strip().split()[1:]"
   ]
  },
  {
   "cell_type": "code",
   "execution_count": 4,
   "id": "26fc6bae-a899-4d67-b99e-e60a6d711e5c",
   "metadata": {},
   "outputs": [
    {
     "data": {
      "text/plain": [
       "['-75.3',\n",
       " '-259.9',\n",
       " '-97.4',\n",
       " '282.1',\n",
       " '0.0',\n",
       " '-54.2',\n",
       " '-497.8',\n",
       " '-76.6',\n",
       " '-75.3',\n",
       " '-75.3']"
      ]
     },
     "execution_count": 4,
     "metadata": {},
     "output_type": "execute_result"
    }
   ],
   "source": [
    "avg"
   ]
  },
  {
   "cell_type": "code",
   "execution_count": 7,
   "id": "81e838b0-3264-47e2-8cff-6c08ab6b7bf3",
   "metadata": {},
   "outputs": [
    {
     "data": {
      "text/plain": [
       "-75.3"
      ]
     },
     "execution_count": 7,
     "metadata": {},
     "output_type": "execute_result"
    }
   ],
   "source": [
    "a = avg[0]\n",
    "float(a)"
   ]
  }
 ],
 "metadata": {
  "kernelspec": {
   "display_name": "Python 3 (ipykernel)",
   "language": "python",
   "name": "python3"
  },
  "language_info": {
   "codemirror_mode": {
    "name": "ipython",
    "version": 3
   },
   "file_extension": ".py",
   "mimetype": "text/x-python",
   "name": "python",
   "nbconvert_exporter": "python",
   "pygments_lexer": "ipython3",
   "version": "3.12.7"
  }
 },
 "nbformat": 4,
 "nbformat_minor": 5
}
