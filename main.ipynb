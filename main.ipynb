{
 "cells": [
  {
   "cell_type": "code",
   "execution_count": 1,
   "id": "3dc9541a-1f0b-4715-881a-8b438d01398e",
   "metadata": {},
   "outputs": [],
   "source": [
    "import os\n",
    "import datetime\n",
    "from make_top_box import make_top_protein\n",
    "from FillWater_AddIons import fill_water_ions\n",
    "from Energy_Minimization import energy_min\n",
    "from Nvt_Npt import make_new_minim_nvt_npt\n",
    "from SAMD import make_new_minim_config_samd\n",
    "from SAMD import run_md\n",
    "\n",
    "input_dir = os.getcwd()\n",
    "    \n",
    "# pdb file\n",
    "protein_infile = \"HLA_BiAB_protein_50ns\"  # \n",
    "protein_file_path = os.path.join(input_dir, f\"{protein_infile}.pdb\")\n",
    "\n",
    "# MDP files\n",
    "ions_mdp_file = \"ions\"\n",
    "minim_mdp_file = \"minim\"\n",
    "nvt_mdp_file = \"NVT\"\n",
    "npt_mdp_file = \"NPT\"\n",
    "samd_mdp_file = \"SAMD\"\n",
    "md_mdp_file = \"EngComp_ff14sb_custom\"\n",
    "\n",
    "ions_mdp_path = os.path.join(input_dir, f\"{ions_mdp_file}.mdp\")\n",
    "minim_mdp_path = os.path.join(input_dir, f\"{minim_mdp_file}.mdp\")\n",
    "nvt_mdp_path = os.path.join(input_dir, f\"{nvt_mdp_file}.mdp\")\n",
    "npt_mdp_path = os.path.join(input_dir, f\"{npt_mdp_file}.mdp\")\n",
    "samd_mdp_path = os.path.join(input_dir, f\"{samd_mdp_file}.mdp\")\n",
    "md_mdp_path = os.path.join(input_dir, f\"{md_mdp_file}.mdp\")\n",
    "\n",
    "def create_output_directory():\n",
    "    # 获取当前目录\n",
    "    current_dir = os.getcwd()\n",
    "    \n",
    "    # 添加时间戳到输出文件夹名称\n",
    "    timestamp = datetime.datetime.now().strftime('%Y%m%d_%H%M%S')\n",
    "    output_dir_name = f\"output_files_{timestamp}\"\n",
    "    output_dir_path = os.path.join(current_dir, output_dir_name)\n",
    "    \n",
    "    # 创建文件夹\n",
    "    os.mkdir(output_dir_path)\n",
    "    print(f\"Created directory: {output_dir_path}\")\n",
    "    # 切换工作目录到新的输出目录\n",
    "    os.chdir(output_dir_path)\n",
    "\n",
    "    \n",
    "    \n",
    "    return output_dir_path"
   ]
  },
  {
   "cell_type": "code",
   "execution_count": 2,
   "id": "960d49ad-6921-4111-9d60-cb642903ac6b",
   "metadata": {},
   "outputs": [
    {
     "name": "stdout",
     "output_type": "stream",
     "text": [
      "Created directory: /home/bio/Desktop/jupyter_test/jupyter_test/output_files_20241119_185655\n"
     ]
    },
    {
     "data": {
      "text/plain": [
       "'/home/bio/Desktop/jupyter_test/jupyter_test/output_files_20241119_185655'"
      ]
     },
     "execution_count": 2,
     "metadata": {},
     "output_type": "execute_result"
    }
   ],
   "source": [
    "create_output_directory()"
   ]
  },
  {
   "cell_type": "code",
   "execution_count": 3,
   "id": "51db4a58-10a4-46e1-a9d7-79825fe081f0",
   "metadata": {},
   "outputs": [
    {
     "name": "stdout",
     "output_type": "stream",
     "text": [
      "Topology generation completed successfully.\n",
      "Simulation box definition completed successfully.\n"
     ]
    }
   ],
   "source": [
    "# generating a topology and build box\n",
    "make_top_protein(protein_file_path, \"amber99sb-ildn\", \"tip3p\", \"system\", \"topol\")"
   ]
  },
  {
   "cell_type": "code",
   "execution_count": 4,
   "id": "f33bf63c-bd38-4189-ad65-bbb28ab5d86c",
   "metadata": {},
   "outputs": [
    {
     "name": "stdout",
     "output_type": "stream",
     "text": [
      "Water and ions successfully added to the system!\n",
      "Energy minimization completed successfully!\n"
     ]
    }
   ],
   "source": [
    "# Adding water and ions\n",
    "fill_water_ions(\"system\", \"topol\", ions_mdp_path)\n",
    "# Energy Minimiization\n",
    "energy_min(minim_mdp_path, \"system_ions\", \"topol\", \"system_compl\")"
   ]
  },
  {
   "cell_type": "code",
   "execution_count": 5,
   "id": "bad29d1f-1033-44c5-96c0-b87a41cd6305",
   "metadata": {},
   "outputs": [
    {
     "name": "stdout",
     "output_type": "stream",
     "text": [
      "18:57:08 -- Running NVT MD for temperature equilibration...\n",
      "18:57:27 -- Running NPT MD for pressure equilibration...\n",
      "\n",
      "Statistics over 50001 steps [ 0.0000 through 50.0000 ps ], 1 data sets\n",
      "All statistics are over 501 points\n",
      "\n",
      "Energy                      Average   Err.Est.       RMSD  Tot-Drift\n",
      "-------------------------------------------------------------------------------\n",
      "Temperature                 293.391        6.2    18.9043    34.8378  (K)\n",
      "\n",
      "Statistics over 50001 steps [ 0.0000 through 100.0000 ps ], 2 data sets\n",
      "All statistics are over 501 points\n",
      "\n",
      "Energy                      Average   Err.Est.       RMSD  Tot-Drift\n",
      "-------------------------------------------------------------------------------\n",
      "Pressure                   -2.33981         --    91.0036    12.8364  (bar)\n",
      "Density                      1004.3         --    1.26851   0.193263  (kg/m^3)\n",
      "Equilibration completed successfully!\n"
     ]
    },
    {
     "name": "stderr",
     "output_type": "stream",
     "text": [
      "                      :-) GROMACS - gmx energy, 2024.4 (-:\n",
      "\n",
      "Executable:   /opt/gromacs-2024.4/bin/gmx\n",
      "Data prefix:  /opt/gromacs-2024.4\n",
      "Working dir:  /home/bio/Desktop/jupyter_test/jupyter_test/output_files_20241119_185655\n",
      "Command line:\n",
      "  gmx energy -f NVT.edr -o temp_NVT.xvg\n",
      "\n",
      "Opened NVT.edr as single precision energy file\n",
      "\n",
      "Select the terms you want from the following list by\n",
      "selecting either (part of) the name or the number or a combination.\n",
      "End your selection with an empty line or a zero.\n",
      "-------------------------------------------------------------------\n",
      "  1  Bond             2  Angle            3  Proper-Dih.      4  Per.-Imp.-Dih.\n",
      "  5  LJ-14            6  Coulomb-14       7  LJ-(SR)          8  Disper.-corr. \n",
      "  9  Coulomb-(SR)    10  Coul.-recip.    11  Position-Rest.  12  Potential     \n",
      " 13  Kinetic-En.     14  Total-Energy    15  Conserved-En.   16  Temperature   \n",
      " 17  Pres.-DC        18  Pressure        19  Constr.-rmsd    20  Vir-XX        \n",
      " 21  Vir-XY          22  Vir-XZ          23  Vir-YX          24  Vir-YY        \n",
      " 25  Vir-YZ          26  Vir-ZX          27  Vir-ZY          28  Vir-ZZ        \n",
      " 29  Pres-XX         30  Pres-XY         31  Pres-XZ         32  Pres-YX       \n",
      " 33  Pres-YY         34  Pres-YZ         35  Pres-ZX         36  Pres-ZY       \n",
      " 37  Pres-ZZ         38  #Surf*SurfTen   39  T-Protein       40  T-non-Protein \n",
      " 41  Lamb-Protein                        42  Lamb-non-Protein                  \n",
      "\n",
      "Last energy frame read 10 time   50.000           \n",
      "\n",
      "GROMACS reminds you: \"When It Starts to Start It'll Never Stop\" (Magnapop)\n",
      "\n",
      "                      :-) GROMACS - gmx energy, 2024.4 (-:\n",
      "\n",
      "Executable:   /opt/gromacs-2024.4/bin/gmx\n",
      "Data prefix:  /opt/gromacs-2024.4\n",
      "Working dir:  /home/bio/Desktop/jupyter_test/jupyter_test/output_files_20241119_185655\n",
      "Command line:\n",
      "  gmx energy -f NPT.edr -o press_NPT.xvg\n",
      "\n",
      "Opened NPT.edr as single precision energy file\n",
      "\n",
      "Select the terms you want from the following list by\n",
      "selecting either (part of) the name or the number or a combination.\n",
      "End your selection with an empty line or a zero.\n",
      "-------------------------------------------------------------------\n",
      "  1  Bond             2  Angle            3  Proper-Dih.      4  Per.-Imp.-Dih.\n",
      "  5  LJ-14            6  Coulomb-14       7  LJ-(SR)          8  Disper.-corr. \n",
      "  9  Coulomb-(SR)    10  Coul.-recip.    11  Position-Rest.  12  Potential     \n",
      " 13  Kinetic-En.     14  Total-Energy    15  Conserved-En.   16  Temperature   \n",
      " 17  Pres.-DC        18  Pressure        19  Constr.-rmsd    20  Box-X         \n",
      " 21  Box-Y           22  Box-Z           23  Volume          24  Density       \n",
      " 25  pV              26  Enthalpy        27  Vir-XX          28  Vir-XY        \n",
      " 29  Vir-XZ          30  Vir-YX          31  Vir-YY          32  Vir-YZ        \n",
      " 33  Vir-ZX          34  Vir-ZY          35  Vir-ZZ          36  Pres-XX       \n",
      " 37  Pres-XY         38  Pres-XZ         39  Pres-YX         40  Pres-YY       \n",
      " 41  Pres-YZ         42  Pres-ZX         43  Pres-ZY         44  Pres-ZZ       \n",
      " 45  #Surf*SurfTen   46  T-Protein       47  T-non-Protein   48  Lamb-Protein  \n",
      " 49  Lamb-non-Protein                  \n",
      "\n",
      "Last energy frame read 7 time  100.000            \n",
      "\n",
      "GROMACS reminds you: \"When It Starts to Start It'll Never Stop\" (Magnapop)\n",
      "\n"
     ]
    }
   ],
   "source": [
    "# Nvt and Npt\n",
    "sequence = 0\n",
    "make_new_minim_nvt_npt(\"system_compl_minim.gro\", nvt_mdp_path, npt_mdp_path, \"system_equil\", 0)"
   ]
  },
  {
   "cell_type": "code",
   "execution_count": 6,
   "id": "8693869f-6e53-464e-9eb8-5df34f4b205c",
   "metadata": {},
   "outputs": [
    {
     "name": "stdout",
     "output_type": "stream",
     "text": [
      "18:57:54 -- Running SAMD \n",
      "\n",
      "Statistics over 175001 steps [ 0.0000 through 350.0000 ps ], 3 data sets\n",
      "All statistics are over 1751 points\n",
      "\n",
      "Energy                      Average   Err.Est.       RMSD  Tot-Drift\n",
      "-------------------------------------------------------------------------------\n",
      "Temperature                 339.942         13     27.123   -51.0625  (K)\n",
      "Pressure                    0.88923         11    97.9889   -47.7903  (bar)\n",
      "Density                     975.093         13    28.2857    48.7573  (kg/m^3)\n",
      "Selected 1: 'Protein'\n",
      "Selected 1: 'Protein'\n",
      "SAMD completed successfully!\n"
     ]
    },
    {
     "name": "stderr",
     "output_type": "stream",
     "text": [
      "                      :-) GROMACS - gmx energy, 2024.4 (-:\n",
      "\n",
      "Executable:   /opt/gromacs-2024.4/bin/gmx\n",
      "Data prefix:  /opt/gromacs-2024.4\n",
      "Working dir:  /home/bio/Desktop/jupyter_test/jupyter_test/output_files_20241119_185655\n",
      "Command line:\n",
      "  gmx energy -f SAMD.edr -o press_SAMD.xvg\n",
      "\n",
      "Opened SAMD.edr as single precision energy file\n",
      "\n",
      "Select the terms you want from the following list by\n",
      "selecting either (part of) the name or the number or a combination.\n",
      "End your selection with an empty line or a zero.\n",
      "-------------------------------------------------------------------\n",
      "  1  Bond             2  Angle            3  Proper-Dih.      4  Per.-Imp.-Dih.\n",
      "  5  LJ-14            6  Coulomb-14       7  LJ-(SR)          8  Disper.-corr. \n",
      "  9  Coulomb-(SR)    10  Coul.-recip.    11  Potential       12  Kinetic-En.   \n",
      " 13  Total-Energy    14  Conserved-En.   15  Temperature     16  Pres.-DC      \n",
      " 17  Pressure        18  Constr.-rmsd    19  Box-X           20  Box-Y         \n",
      " 21  Box-Z           22  Volume          23  Density         24  pV            \n",
      " 25  Enthalpy        26  Vir-XX          27  Vir-XY          28  Vir-XZ        \n",
      " 29  Vir-YX          30  Vir-YY          31  Vir-YZ          32  Vir-ZX        \n",
      " 33  Vir-ZY          34  Vir-ZZ          35  Pres-XX         36  Pres-XY       \n",
      " 37  Pres-XZ         38  Pres-YX         39  Pres-YY         40  Pres-YZ       \n",
      " 41  Pres-ZX         42  Pres-ZY         43  Pres-ZZ         44  #Surf*SurfTen \n",
      " 45  T-Protein                           46  T-non-Protein                     \n",
      " 47  Lamb-Protein                        48  Lamb-non-Protein                  \n",
      "\n",
      "Last energy frame read 50 time  350.000           \n",
      "\n",
      "GROMACS reminds you: \"Baby, It Aint Over Till It's Over\" (Lenny Kravitz)\n",
      "\n",
      "                       :-) GROMACS - gmx rms, 2024.4 (-:\n",
      "\n",
      "Executable:   /opt/gromacs-2024.4/bin/gmx\n",
      "Data prefix:  /opt/gromacs-2024.4\n",
      "Working dir:  /home/bio/Desktop/jupyter_test/jupyter_test/output_files_20241119_185655\n",
      "Command line:\n",
      "  gmx rms -s system_SAMD.tpr -f traj_SAMD.xtc -o rmsd_SAMD0.xvg -tu ps\n",
      "\n",
      "Reading file system_SAMD.tpr, VERSION 2024.4 (single precision)\n",
      "Reading file system_SAMD.tpr, VERSION 2024.4 (single precision)\n",
      "Select group for least squares fit\n",
      "Group     0 (         System) has 76002 elements\n",
      "Group     1 (        Protein) has  6398 elements\n",
      "Group     2 (      Protein-H) has  3292 elements\n",
      "Group     3 (        C-alpha) has   413 elements\n",
      "Group     4 (       Backbone) has  1239 elements\n",
      "Group     5 (      MainChain) has  1656 elements\n",
      "Group     6 (   MainChain+Cb) has  2035 elements\n",
      "Group     7 (    MainChain+H) has  2063 elements\n",
      "Group     8 (      SideChain) has  4335 elements\n",
      "Group     9 (    SideChain-H) has  1636 elements\n",
      "Group    10 (    Prot-Masses) has  6398 elements\n",
      "Group    11 (    non-Protein) has 69604 elements\n",
      "Group    12 (          Water) has 69603 elements\n",
      "Group    13 (            SOL) has 69603 elements\n",
      "Group    14 (      non-Water) has  6399 elements\n",
      "Group    15 (            Ion) has     1 elements\n",
      "Group    16 ( Water_and_ions) has 69604 elements\n",
      "Select a group: Select group for RMSD calculation\n",
      "Group     0 (         System) has 76002 elements\n",
      "Group     1 (        Protein) has  6398 elements\n",
      "Group     2 (      Protein-H) has  3292 elements\n",
      "Group     3 (        C-alpha) has   413 elements\n",
      "Group     4 (       Backbone) has  1239 elements\n",
      "Group     5 (      MainChain) has  1656 elements\n",
      "Group     6 (   MainChain+Cb) has  2035 elements\n",
      "Group     7 (    MainChain+H) has  2063 elements\n",
      "Group     8 (      SideChain) has  4335 elements\n",
      "Group     9 (    SideChain-H) has  1636 elements\n",
      "Group    10 (    Prot-Masses) has  6398 elements\n",
      "Group    11 (    non-Protein) has 69604 elements\n",
      "Group    12 (          Water) has 69603 elements\n",
      "Group    13 (            SOL) has 69603 elements\n",
      "Group    14 (      non-Water) has  6399 elements\n",
      "Group    15 (            Ion) has     1 elements\n",
      "Group    16 ( Water_and_ions) has 69604 elements\n",
      "Last frame         50 time  350.000   \n",
      "\n",
      "GROMACS reminds you: \"Baby, It Aint Over Till It's Over\" (Lenny Kravitz)\n",
      "\n"
     ]
    }
   ],
   "source": [
    "make_new_minim_config_samd(\"system_equil.gro\", samd_mdp_path, \"system_Compl_MDstart\", 0)"
   ]
  },
  {
   "cell_type": "code",
   "execution_count": 7,
   "id": "1b698472-1335-417e-bb75-f5120b14d2a0",
   "metadata": {},
   "outputs": [
    {
     "name": "stdout",
     "output_type": "stream",
     "text": [
      "19:00:02 -- Running MD \n"
     ]
    },
    {
     "name": "stderr",
     "output_type": "stream",
     "text": [
      "                      :-) GROMACS - gmx energy, 2024.4 (-:\n",
      "\n",
      "Executable:   /opt/gromacs-2024.4/bin/gmx\n",
      "Data prefix:  /opt/gromacs-2024.4\n",
      "Working dir:  /home/bio/Desktop/jupyter_test/jupyter_test/output_files_20241119_185655\n",
      "Command line:\n",
      "  gmx energy -f PROD.edr -o PROD0.xvg\n",
      "\n",
      "Opened PROD.edr as single precision energy file\n",
      "\n",
      "Select the terms you want from the following list by\n",
      "selecting either (part of) the name or the number or a combination.\n",
      "End your selection with an empty line or a zero.\n",
      "-------------------------------------------------------------------\n",
      "  1  Bond             2  Angle            3  Proper-Dih.      4  Per.-Imp.-Dih.\n",
      "  5  LJ-14            6  Coulomb-14       7  LJ-(SR)          8  Disper.-corr. \n",
      "  9  Coulomb-(SR)    10  Coul.-recip.    11  Potential       12  Kinetic-En.   \n",
      " 13  Total-Energy    14  Conserved-En.   15  Temperature     16  Pres.-DC      \n",
      " 17  Pressure        18  Constr.-rmsd    19  Box-X           20  Box-Y         \n",
      " 21  Box-Z           22  Volume          23  Density         24  pV            \n",
      " 25  Enthalpy        26  Vir-XX          27  Vir-XY          28  Vir-XZ        \n",
      " 29  Vir-YX          30  Vir-YY          31  Vir-YZ          32  Vir-ZX        \n",
      " 33  Vir-ZY          34  Vir-ZZ          35  Pres-XX         36  Pres-XY       \n",
      " 37  Pres-XZ         38  Pres-YX         39  Pres-YY         40  Pres-YZ       \n",
      " 41  Pres-ZX         42  Pres-ZY         43  Pres-ZZ         44  #Surf*SurfTen \n",
      " 45  T-Protein                           46  T-non-Protein                     \n",
      " 47  Lamb-Protein                        48  Lamb-non-Protein                  \n",
      "\n",
      "Last energy frame read 250 time 5000.000          \n",
      "\n",
      "GROMACS reminds you: \"They don't have half hours in the north\" (Carl Caleman)\n",
      "\n",
      "                       :-) GROMACS - gmx rms, 2024.4 (-:\n",
      "\n",
      "Executable:   /opt/gromacs-2024.4/bin/gmx\n",
      "Data prefix:  /opt/gromacs-2024.4\n",
      "Working dir:  /home/bio/Desktop/jupyter_test/jupyter_test/output_files_20241119_185655\n",
      "Command line:\n",
      "  gmx rms -s system_Compl_MD.tpr -f traj_MD.xtc -o rmsd_PROD0.xvg -a avgPROD0.xvg -tu ps\n",
      "\n",
      "Reading file system_Compl_MD.tpr, VERSION 2024.4 (single precision)\n",
      "Reading file system_Compl_MD.tpr, VERSION 2024.4 (single precision)\n",
      "Select group for least squares fit\n",
      "Group     0 (         System) has 76002 elements\n",
      "Group     1 (        Protein) has  6398 elements\n",
      "Group     2 (      Protein-H) has  3292 elements\n",
      "Group     3 (        C-alpha) has   413 elements\n",
      "Group     4 (       Backbone) has  1239 elements\n",
      "Group     5 (      MainChain) has  1656 elements\n",
      "Group     6 (   MainChain+Cb) has  2035 elements\n",
      "Group     7 (    MainChain+H) has  2063 elements\n",
      "Group     8 (      SideChain) has  4335 elements\n",
      "Group     9 (    SideChain-H) has  1636 elements\n",
      "Group    10 (    Prot-Masses) has  6398 elements\n",
      "Group    11 (    non-Protein) has 69604 elements\n",
      "Group    12 (          Water) has 69603 elements\n",
      "Group    13 (            SOL) has 69603 elements\n",
      "Group    14 (      non-Water) has  6399 elements\n",
      "Group    15 (            Ion) has     1 elements\n",
      "Group    16 ( Water_and_ions) has 69604 elements\n",
      "Select a group: Select group for RMSD calculation\n",
      "Group     0 (         System) has 76002 elements\n",
      "Group     1 (        Protein) has  6398 elements\n",
      "Group     2 (      Protein-H) has  3292 elements\n",
      "Group     3 (        C-alpha) has   413 elements\n",
      "Group     4 (       Backbone) has  1239 elements\n",
      "Group     5 (      MainChain) has  1656 elements\n",
      "Group     6 (   MainChain+Cb) has  2035 elements\n",
      "Group     7 (    MainChain+H) has  2063 elements\n",
      "Group     8 (      SideChain) has  4335 elements\n",
      "Group     9 (    SideChain-H) has  1636 elements\n",
      "Group    10 (    Prot-Masses) has  6398 elements\n",
      "Group    11 (    non-Protein) has 69604 elements\n",
      "Group    12 (          Water) has 69603 elements\n",
      "Group    13 (            SOL) has 69603 elements\n",
      "Group    14 (      non-Water) has  6399 elements\n",
      "Group    15 (            Ion) has     1 elements\n",
      "Group    16 ( Water_and_ions) has 69604 elements\n",
      "Reading frame      50 time 1000.000   "
     ]
    },
    {
     "name": "stdout",
     "output_type": "stream",
     "text": [
      "\n",
      "Statistics over 2500001 steps [ 0.0000 through 5000.0000 ps ], 3 data sets\n",
      "All statistics are over 25001 points\n",
      "\n",
      "Energy                      Average   Err.Est.       RMSD  Tot-Drift\n",
      "-------------------------------------------------------------------------------\n",
      "Temperature                 309.969      0.034    1.23374 -0.0180104  (K)\n",
      "Pressure                   -0.27687       0.89    99.4283    2.17067  (bar)\n",
      "Density                        1006       0.07    2.04417   0.102544  (kg/m^3)\n"
     ]
    },
    {
     "name": "stderr",
     "output_type": "stream",
     "text": [
      "Reading frame     200 time 4000.000   \n",
      "\n",
      "GROMACS reminds you: \"The Poodle Bites\" (F. Zappa)\n",
      "\n"
     ]
    },
    {
     "name": "stdout",
     "output_type": "stream",
     "text": [
      "Selected 1: 'Protein'\n",
      "Selected 1: 'Protein'\n",
      "Something wrong during Check for MD\n"
     ]
    },
    {
     "ename": "NameError",
     "evalue": "name 'double_check_folder' is not defined",
     "output_type": "error",
     "traceback": [
      "\u001b[0;31m---------------------------------------------------------------------------\u001b[0m",
      "\u001b[0;31mNameError\u001b[0m                                 Traceback (most recent call last)",
      "Cell \u001b[0;32mIn[7], line 1\u001b[0m\n\u001b[0;32m----> 1\u001b[0m run_md(md_mdp_path,\u001b[38;5;124m\"\u001b[39m\u001b[38;5;124msystem_Compl_MD\u001b[39m\u001b[38;5;124m\"\u001b[39m, \u001b[38;5;124m\"\u001b[39m\u001b[38;5;124mtraj_MD\u001b[39m\u001b[38;5;124m\"\u001b[39m, \u001b[38;5;241m0\u001b[39m, \u001b[38;5;241m1\u001b[39m)\n",
      "File \u001b[0;32m~/Desktop/jupyter_test/jupyter_test/SAMD.py:135\u001b[0m, in \u001b[0;36mrun_md\u001b[0;34m(md_mdp, tpr_file, trj_name, sequence, cycle_number, top_name, pipe_file)\u001b[0m\n\u001b[1;32m    128\u001b[0m run_gromacs_command(\n\u001b[1;32m    129\u001b[0m     command\u001b[38;5;241m=\u001b[39mrms_command,\n\u001b[1;32m    130\u001b[0m     error_message\u001b[38;5;241m=\u001b[39m\u001b[38;5;124m\"\u001b[39m\u001b[38;5;124mSomething went wrong during RMSD Check\u001b[39m\u001b[38;5;124m\"\u001b[39m,\n\u001b[1;32m    131\u001b[0m     pipe_file\u001b[38;5;241m=\u001b[39mpipe_file\n\u001b[1;32m    132\u001b[0m )\n\u001b[1;32m    134\u001b[0m \u001b[38;5;66;03m# Copy important files for double-check\u001b[39;00m\n\u001b[0;32m--> 135\u001b[0m os\u001b[38;5;241m.\u001b[39mmakedirs(double_check_folder, exist_ok\u001b[38;5;241m=\u001b[39m\u001b[38;5;28;01mTrue\u001b[39;00m)\n\u001b[1;32m    136\u001b[0m files_to_copy \u001b[38;5;241m=\u001b[39m [\n\u001b[1;32m    137\u001b[0m     \u001b[38;5;124mf\u001b[39m\u001b[38;5;124m\"\u001b[39m\u001b[38;5;124mgromppPROD_seq\u001b[39m\u001b[38;5;132;01m{\u001b[39;00msequence\u001b[38;5;132;01m}\u001b[39;00m\u001b[38;5;124m.out\u001b[39m\u001b[38;5;124m\"\u001b[39m,\n\u001b[1;32m    138\u001b[0m     \u001b[38;5;124m\"\u001b[39m\u001b[38;5;124m*.edr\u001b[39m\u001b[38;5;124m\"\u001b[39m,\n\u001b[1;32m    139\u001b[0m     \u001b[38;5;124m\"\u001b[39m\u001b[38;5;124m*.xvg\u001b[39m\u001b[38;5;124m\"\u001b[39m,\n\u001b[1;32m    140\u001b[0m     \u001b[38;5;124m\"\u001b[39m\u001b[38;5;124mmdout.mdp\u001b[39m\u001b[38;5;124m\"\u001b[39m\n\u001b[1;32m    141\u001b[0m ]\n\u001b[1;32m    142\u001b[0m \u001b[38;5;28;01mfor\u001b[39;00m file \u001b[38;5;129;01min\u001b[39;00m files_to_copy:\n",
      "\u001b[0;31mNameError\u001b[0m: name 'double_check_folder' is not defined"
     ]
    }
   ],
   "source": [
    "run_md(md_mdp_path,\"system_Compl_MD\", \"traj_MD\", 0, 1)"
   ]
  },
  {
   "cell_type": "code",
   "execution_count": 11,
   "id": "1c204fc5-824c-46e3-8085-c6a023cf6c0e",
   "metadata": {},
   "outputs": [
    {
     "name": "stdout",
     "output_type": "stream",
     "text": [
      "                      :-) GROMACS - gmx energy, 2024.4 (-:\n",
      "\n",
      "Executable:   /opt/gromacs-2024.4/bin/gmx\n",
      "Data prefix:  /opt/gromacs-2024.4\n",
      "Working dir:  /home/bio/Desktop/jupyter_test/jupyter_test/output_files_20241119_181141\n",
      "Command line:\n",
      "  gmx energy -f SAMD.edr -o press_SAMD.xvg\n",
      "\n",
      "Opened SAMD.edr as single precision energy file\n",
      "\n",
      "Select the terms you want from the following list by\n",
      "selecting either (part of) the name or the number or a combination.\n",
      "End your selection with an empty line or a zero.\n",
      "-------------------------------------------------------------------\n",
      "  1  Bond             2  Angle            3  Proper-Dih.      4  Per.-Imp.-Dih.\n",
      "  5  LJ-14            6  Coulomb-14       7  LJ-(SR)          8  Disper.-corr. \n",
      "  9  Coulomb-(SR)    10  Coul.-recip.    11  Potential       12  Kinetic-En.   \n",
      " 13  Total-Energy    14  Conserved-En.   15  Temperature     16  Pres.-DC      \n",
      " 17  Pressure        18  Constr.-rmsd    19  Box-X           20  Box-Y         \n",
      " 21  Box-Z           22  Volume          23  Density         24  pV            \n",
      " 25  Enthalpy        26  Vir-XX          27  Vir-XY          28  Vir-XZ        \n",
      " 29  Vir-YX          30  Vir-YY          31  Vir-YZ          32  Vir-ZX        \n",
      " 33  Vir-ZY          34  Vir-ZZ          35  Pres-XX         36  Pres-XY       \n",
      " 37  Pres-XZ         38  Pres-YX         39  Pres-YY         40  Pres-YZ       \n",
      " 41  Pres-ZX         42  Pres-ZY         43  Pres-ZZ         44  #Surf*SurfTen \n",
      " 45  T-Protein                           46  T-non-Protein                     \n",
      " 47  Lamb-Protein                        48  Lamb-non-Protein                  \n",
      "\n",
      "String 'Temperature\\nPressure\\nDensity\\n\\n' does not match anything\n",
      "\n",
      "-------------------------------------------------------\n",
      "Program:     gmx energy, version 2024.4\n",
      "Source file: src/gromacs/gmxana/gmx_energy.cpp (line 300)\n",
      "\n",
      "Fatal error:\n",
      "No energy terms selected\n",
      "\n",
      "For more information and tips for troubleshooting, please check the GROMACS\n",
      "website at https://manual.gromacs.org/current/user-guide/run-time-errors.html\n",
      "-------------------------------------------------------\n"
     ]
    }
   ],
   "source": [
    "!echo 'Temperature\\nPressure\\nDensity\\n\\n' | gmx energy -f SAMD.edr -o press_SAMD.xvg"
   ]
  }
 ],
 "metadata": {
  "kernelspec": {
   "display_name": "Python 3 (ipykernel)",
   "language": "python",
   "name": "python3"
  },
  "language_info": {
   "codemirror_mode": {
    "name": "ipython",
    "version": 3
   },
   "file_extension": ".py",
   "mimetype": "text/x-python",
   "name": "python",
   "nbconvert_exporter": "python",
   "pygments_lexer": "ipython3",
   "version": "3.12.7"
  }
 },
 "nbformat": 4,
 "nbformat_minor": 5
}
